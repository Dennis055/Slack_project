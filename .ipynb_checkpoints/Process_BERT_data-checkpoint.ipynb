{
 "cells": [
  {
   "cell_type": "code",
   "execution_count": 5,
   "metadata": {},
   "outputs": [],
   "source": [
    "import pandas as pd\n",
    "import matplotlib.pyplot as plt\n",
    "import os\n",
    "%matplotlib inline"
   ]
  },
  {
   "cell_type": "code",
   "execution_count": 15,
   "metadata": {},
   "outputs": [
    {
     "data": {
      "text/html": [
       "<div>\n",
       "<style scoped>\n",
       "    .dataframe tbody tr th:only-of-type {\n",
       "        vertical-align: middle;\n",
       "    }\n",
       "\n",
       "    .dataframe tbody tr th {\n",
       "        vertical-align: top;\n",
       "    }\n",
       "\n",
       "    .dataframe thead th {\n",
       "        text-align: right;\n",
       "    }\n",
       "</style>\n",
       "<table border=\"1\" class=\"dataframe\">\n",
       "  <thead>\n",
       "    <tr style=\"text-align: right;\">\n",
       "      <th></th>\n",
       "      <th>Team Name</th>\n",
       "      <th>Meeting Date</th>\n",
       "      <th>Meeting Starting Time</th>\n",
       "      <th>User Name</th>\n",
       "      <th>Text time</th>\n",
       "      <th>Text</th>\n",
       "      <th>Code</th>\n",
       "    </tr>\n",
       "  </thead>\n",
       "  <tbody>\n",
       "    <tr>\n",
       "      <th>0</th>\n",
       "      <td>Accessibility</td>\n",
       "      <td>2020-02-28</td>\n",
       "      <td>2020-02-28 16:04:00</td>\n",
       "      <td>**audrasjb**</td>\n",
       "      <td>2020-02-28 16:04:00</td>\n",
       "      <td>@here howdy! who’s here for our weekly &lt;meetin...</td>\n",
       "      <td>Social</td>\n",
       "    </tr>\n",
       "    <tr>\n",
       "      <th>1</th>\n",
       "      <td>Accessibility</td>\n",
       "      <td>2020-02-28</td>\n",
       "      <td>2020-02-28 16:04:00</td>\n",
       "      <td>**audrasjb**</td>\n",
       "      <td>2020-02-28 16:05:00</td>\n",
       "      <td>Here is the agenda for today: https://make.wor...</td>\n",
       "      <td>Administration</td>\n",
       "    </tr>\n",
       "    <tr>\n",
       "      <th>2</th>\n",
       "      <td>Accessibility</td>\n",
       "      <td>2020-02-28</td>\n",
       "      <td>2020-02-28 16:04:00</td>\n",
       "      <td>**ryokuhi**</td>\n",
       "      <td>2020-02-28 16:05:00</td>\n",
       "      <td>(on \\n and a terrible connection)</td>\n",
       "      <td>Administration</td>\n",
       "    </tr>\n",
       "    <tr>\n",
       "      <th>3</th>\n",
       "      <td>Accessibility</td>\n",
       "      <td>2020-02-28</td>\n",
       "      <td>2020-02-28 16:04:00</td>\n",
       "      <td>**audrasjb**</td>\n",
       "      <td>2020-02-28 16:07:00</td>\n",
       "      <td>First item: Improve the Handbook recommendatio...</td>\n",
       "      <td>Planning</td>\n",
       "    </tr>\n",
       "    <tr>\n",
       "      <th>4</th>\n",
       "      <td>Accessibility</td>\n",
       "      <td>2020-02-28</td>\n",
       "      <td>2020-02-28 16:04:00</td>\n",
       "      <td>**audrasjb**</td>\n",
       "      <td>2020-02-28 16:07:00</td>\n",
       "      <td>It’s related to this handbook page: (edited)</td>\n",
       "      <td>Planning</td>\n",
       "    </tr>\n",
       "  </tbody>\n",
       "</table>\n",
       "</div>"
      ],
      "text/plain": [
       "       Team Name Meeting Date Meeting Starting Time     User Name  \\\n",
       "0  Accessibility   2020-02-28   2020-02-28 16:04:00  **audrasjb**   \n",
       "1  Accessibility   2020-02-28   2020-02-28 16:04:00  **audrasjb**   \n",
       "2  Accessibility   2020-02-28   2020-02-28 16:04:00   **ryokuhi**   \n",
       "3  Accessibility   2020-02-28   2020-02-28 16:04:00  **audrasjb**   \n",
       "4  Accessibility   2020-02-28   2020-02-28 16:04:00  **audrasjb**   \n",
       "\n",
       "             Text time                                              Text   \\\n",
       "0  2020-02-28 16:04:00  @here howdy! who’s here for our weekly <meetin...   \n",
       "1  2020-02-28 16:05:00  Here is the agenda for today: https://make.wor...   \n",
       "2  2020-02-28 16:05:00                  (on \\n and a terrible connection)   \n",
       "3  2020-02-28 16:07:00  First item: Improve the Handbook recommendatio...   \n",
       "4  2020-02-28 16:07:00       It’s related to this handbook page: (edited)   \n",
       "\n",
       "             Code  \n",
       "0          Social  \n",
       "1  Administration  \n",
       "2  Administration  \n",
       "3        Planning  \n",
       "4        Planning  "
      ]
     },
     "execution_count": 15,
     "metadata": {},
     "output_type": "execute_result"
    }
   ],
   "source": [
    "FILE_PATH = os.getcwd() + '/data/meetingCodesAll.xlsx'\n",
    "\n",
    "\n",
    "df = pd.read_excel(FILE_PATH)\n",
    "df.head()"
   ]
  },
  {
   "cell_type": "code",
   "execution_count": 16,
   "metadata": {},
   "outputs": [
    {
     "name": "stdout",
     "output_type": "stream",
     "text": [
      "(3040, 7)\n",
      "Accessibility  have  575  sentence block\n",
      "Community  have  403  sentence block\n",
      "Documentation  have  813  sentence block\n",
      "Polyglots  have  357  sentence block\n",
      "Training  have  271  sentence block\n",
      "Forums  have  621  sentence block\n"
     ]
    }
   ],
   "source": [
    "print(df.shape)\n",
    "for text in df['Team Name'].unique():\n",
    "    print(text , ' have ' , len( df.loc[df['Team Name'] == text]) , ' sentence block')"
   ]
  },
  {
   "cell_type": "code",
   "execution_count": 17,
   "metadata": {},
   "outputs": [
    {
     "data": {
      "image/png": "[encoded data removed]",
      "text/plain": [
       "<Figure size 432x288 with 1 Axes>"
      ]
     },
     "metadata": {
      "needs_background": "light"
     },
     "output_type": "display_data"
    },
    {
     "data": {
      "image/png": "[encoded data removed]",
      "text/plain": [
       "<Figure size 432x288 with 1 Axes>"
      ]
     },
     "metadata": {
      "needs_background": "light"
     },
     "output_type": "display_data"
    },
    {
     "data": {
      "image/png": "[encoded data removed]",
      "text/plain": [
       "<Figure size 432x288 with 1 Axes>"
      ]
     },
     "metadata": {
      "needs_background": "light"
     },
     "output_type": "display_data"
    },
    {
     "data": {
      "image/png": "[encoded data removed]",
      "text/plain": [
       "<Figure size 432x288 with 1 Axes>"
      ]
     },
     "metadata": {
      "needs_background": "light"
     },
     "output_type": "display_data"
    },
    {
     "data": {
      "image/png": "[encoded data removed]",
      "text/plain": [
       "<Figure size 432x288 with 1 Axes>"
      ]
     },
     "metadata": {
      "needs_background": "light"
     },
     "output_type": "display_data"
    },
    {
     "data": {
      "image/png": "[encoded data removed]",
      "text/plain": [
       "<Figure size 432x288 with 1 Axes>"
      ]
     },
     "metadata": {
      "needs_background": "light"
     },
     "output_type": "display_data"
    }
   ],
   "source": [
    "for text in df['Team Name'].unique():\n",
    "    plt.figure()\n",
    "    df.loc[df['Team Name'] == text].groupby(['Code'])['Text '].count().plot(kind = 'barh')\n",
    "    plt.title(text)"
   ]
  },
  {
   "cell_type": "markdown",
   "metadata": {},
   "source": [
    "data 有點髒，所以我們要先把document 的data 清一清。"
   ]
  },
  {
   "cell_type": "code",
   "execution_count": 18,
   "metadata": {},
   "outputs": [
    {
     "name": "stdout",
     "output_type": "stream",
     "text": [
      "10\n"
     ]
    },
    {
     "data": {
      "text/plain": [
       "array(['Social', 'Administration', 'Planning', 'Decision-making', 'TBA',\n",
       "       'Process communication', 'Creativity', 'Intellective',\n",
       "       'Process Communication', 'Administrative'], dtype=object)"
      ]
     },
     "execution_count": 18,
     "metadata": {},
     "output_type": "execute_result"
    }
   ],
   "source": [
    "print(df['Code'].nunique())\n",
    "df['Code'].unique()"
   ]
  },
  {
   "cell_type": "code",
   "execution_count": 19,
   "metadata": {},
   "outputs": [
    {
     "data": {
      "text/html": [
       "<div>\n",
       "<style scoped>\n",
       "    .dataframe tbody tr th:only-of-type {\n",
       "        vertical-align: middle;\n",
       "    }\n",
       "\n",
       "    .dataframe tbody tr th {\n",
       "        vertical-align: top;\n",
       "    }\n",
       "\n",
       "    .dataframe thead th {\n",
       "        text-align: right;\n",
       "    }\n",
       "</style>\n",
       "<table border=\"1\" class=\"dataframe\">\n",
       "  <thead>\n",
       "    <tr style=\"text-align: right;\">\n",
       "      <th></th>\n",
       "      <th>Team Name</th>\n",
       "      <th>Meeting Date</th>\n",
       "      <th>Meeting Starting Time</th>\n",
       "      <th>User Name</th>\n",
       "      <th>Text time</th>\n",
       "      <th>Text</th>\n",
       "      <th>Code</th>\n",
       "    </tr>\n",
       "  </thead>\n",
       "  <tbody>\n",
       "    <tr>\n",
       "      <th>1133</th>\n",
       "      <td>Documentation</td>\n",
       "      <td>2020-02-10</td>\n",
       "      <td>2020-02-10 15:00:00</td>\n",
       "      <td>**leogermani**</td>\n",
       "      <td>2020-02-10 15:22:00</td>\n",
       "      <td>oh yes, that's right. Let me check last meetin...</td>\n",
       "      <td>Intellective</td>\n",
       "    </tr>\n",
       "    <tr>\n",
       "      <th>1135</th>\n",
       "      <td>Documentation</td>\n",
       "      <td>2020-02-10</td>\n",
       "      <td>2020-02-10 15:00:00</td>\n",
       "      <td>**zzap**</td>\n",
       "      <td>2020-02-10 15:22:00</td>\n",
       "      <td>yes, her deadline was 14th/15th</td>\n",
       "      <td>Intellective</td>\n",
       "    </tr>\n",
       "  </tbody>\n",
       "</table>\n",
       "</div>"
      ],
      "text/plain": [
       "          Team Name Meeting Date Meeting Starting Time       User Name  \\\n",
       "1133  Documentation   2020-02-10   2020-02-10 15:00:00  **leogermani**   \n",
       "1135  Documentation   2020-02-10   2020-02-10 15:00:00        **zzap**   \n",
       "\n",
       "                Text time                                              Text   \\\n",
       "1133  2020-02-10 15:22:00  oh yes, that's right. Let me check last meetin...   \n",
       "1135  2020-02-10 15:22:00                    yes, her deadline was 14th/15th   \n",
       "\n",
       "              Code  \n",
       "1133  Intellective  \n",
       "1135  Intellective  "
      ]
     },
     "execution_count": 19,
     "metadata": {},
     "output_type": "execute_result"
    }
   ],
   "source": [
    "df.query('Code == \"Intellective\"')"
   ]
  },
  {
   "cell_type": "code",
   "execution_count": 20,
   "metadata": {},
   "outputs": [
    {
     "data": {
      "text/html": [
       "<div>\n",
       "<style scoped>\n",
       "    .dataframe tbody tr th:only-of-type {\n",
       "        vertical-align: middle;\n",
       "    }\n",
       "\n",
       "    .dataframe tbody tr th {\n",
       "        vertical-align: top;\n",
       "    }\n",
       "\n",
       "    .dataframe thead th {\n",
       "        text-align: right;\n",
       "    }\n",
       "</style>\n",
       "<table border=\"1\" class=\"dataframe\">\n",
       "  <thead>\n",
       "    <tr style=\"text-align: right;\">\n",
       "      <th></th>\n",
       "      <th>Team Name</th>\n",
       "      <th>Meeting Date</th>\n",
       "      <th>Meeting Starting Time</th>\n",
       "      <th>User Name</th>\n",
       "      <th>Text time</th>\n",
       "      <th>Text</th>\n",
       "      <th>Code</th>\n",
       "    </tr>\n",
       "  </thead>\n",
       "  <tbody>\n",
       "    <tr>\n",
       "      <th>1</th>\n",
       "      <td>Accessibility</td>\n",
       "      <td>2020-02-28</td>\n",
       "      <td>2020-02-28 16:04:00</td>\n",
       "      <td>**audrasjb**</td>\n",
       "      <td>2020-02-28 16:05:00</td>\n",
       "      <td>Here is the agenda for today: https://make.wor...</td>\n",
       "      <td>Administration</td>\n",
       "    </tr>\n",
       "    <tr>\n",
       "      <th>2</th>\n",
       "      <td>Accessibility</td>\n",
       "      <td>2020-02-28</td>\n",
       "      <td>2020-02-28 16:04:00</td>\n",
       "      <td>**ryokuhi**</td>\n",
       "      <td>2020-02-28 16:05:00</td>\n",
       "      <td>(on \\n and a terrible connection)</td>\n",
       "      <td>Administration</td>\n",
       "    </tr>\n",
       "    <tr>\n",
       "      <th>14</th>\n",
       "      <td>Accessibility</td>\n",
       "      <td>2020-02-28</td>\n",
       "      <td>2020-02-28 16:04:00</td>\n",
       "      <td>**audrasjb**</td>\n",
       "      <td>2020-02-28 16:12:00</td>\n",
       "      <td>Next up: Accessibility team goals for WP 5.5</td>\n",
       "      <td>Administration</td>\n",
       "    </tr>\n",
       "    <tr>\n",
       "      <th>45</th>\n",
       "      <td>Accessibility</td>\n",
       "      <td>2020-02-28</td>\n",
       "      <td>2020-02-28 16:04:00</td>\n",
       "      <td>**audrasjb**</td>\n",
       "      <td>2020-02-28 16:36:00</td>\n",
       "      <td>well, I’ll summarize that in the meeting recap</td>\n",
       "      <td>Administration</td>\n",
       "    </tr>\n",
       "    <tr>\n",
       "      <th>46</th>\n",
       "      <td>Accessibility</td>\n",
       "      <td>2020-02-28</td>\n",
       "      <td>2020-02-28 16:04:00</td>\n",
       "      <td>**audrasjb**</td>\n",
       "      <td>2020-02-28 16:36:00</td>\n",
       "      <td>Next item?</td>\n",
       "      <td>Administration</td>\n",
       "    </tr>\n",
       "    <tr>\n",
       "      <th>...</th>\n",
       "      <td>...</td>\n",
       "      <td>...</td>\n",
       "      <td>...</td>\n",
       "      <td>...</td>\n",
       "      <td>...</td>\n",
       "      <td>...</td>\n",
       "      <td>...</td>\n",
       "    </tr>\n",
       "    <tr>\n",
       "      <th>3012</th>\n",
       "      <td>Forums</td>\n",
       "      <td>2020-01-16</td>\n",
       "      <td>2020-01-16 17:00:00</td>\n",
       "      <td>**clorith**</td>\n",
       "      <td>2020-01-16 17:31:00</td>\n",
       "      <td>If someone wants to spearhead that, I'm all fo...</td>\n",
       "      <td>Administration</td>\n",
       "    </tr>\n",
       "    <tr>\n",
       "      <th>3020</th>\n",
       "      <td>Forums</td>\n",
       "      <td>2020-01-16</td>\n",
       "      <td>2020-01-16 17:00:00</td>\n",
       "      <td>**clorith**</td>\n",
       "      <td>2020-01-16 17:40:00</td>\n",
       "      <td>Well, if someone wants to take the reins on th...</td>\n",
       "      <td>Administration</td>\n",
       "    </tr>\n",
       "    <tr>\n",
       "      <th>3021</th>\n",
       "      <td>Forums</td>\n",
       "      <td>2020-01-16</td>\n",
       "      <td>2020-01-16 17:00:00</td>\n",
       "      <td>**clorith**</td>\n",
       "      <td>2020-01-16 17:40:00</td>\n",
       "      <td>All right, let's see if we can get some Open f...</td>\n",
       "      <td>Administration</td>\n",
       "    </tr>\n",
       "    <tr>\n",
       "      <th>3035</th>\n",
       "      <td>Forums</td>\n",
       "      <td>2020-01-16</td>\n",
       "      <td>2020-01-16 17:00:00</td>\n",
       "      <td>**clorith**</td>\n",
       "      <td>2020-01-16 17:50:00</td>\n",
       "      <td>We're nearing the top of the hour, any other l...</td>\n",
       "      <td>Administration</td>\n",
       "    </tr>\n",
       "    <tr>\n",
       "      <th>3039</th>\n",
       "      <td>Forums</td>\n",
       "      <td>2020-01-16</td>\n",
       "      <td>2020-01-16 17:00:00</td>\n",
       "      <td>**clorith**</td>\n",
       "      <td>2020-01-16 18:00:00</td>\n",
       "      <td>All right then, and with that I will say &lt;/mee...</td>\n",
       "      <td>Administration</td>\n",
       "    </tr>\n",
       "  </tbody>\n",
       "</table>\n",
       "<p>823 rows × 7 columns</p>\n",
       "</div>"
      ],
      "text/plain": [
       "          Team Name Meeting Date Meeting Starting Time     User Name  \\\n",
       "1     Accessibility   2020-02-28   2020-02-28 16:04:00  **audrasjb**   \n",
       "2     Accessibility   2020-02-28   2020-02-28 16:04:00   **ryokuhi**   \n",
       "14    Accessibility   2020-02-28   2020-02-28 16:04:00  **audrasjb**   \n",
       "45    Accessibility   2020-02-28   2020-02-28 16:04:00  **audrasjb**   \n",
       "46    Accessibility   2020-02-28   2020-02-28 16:04:00  **audrasjb**   \n",
       "...             ...          ...                   ...           ...   \n",
       "3012         Forums   2020-01-16   2020-01-16 17:00:00   **clorith**   \n",
       "3020         Forums   2020-01-16   2020-01-16 17:00:00   **clorith**   \n",
       "3021         Forums   2020-01-16   2020-01-16 17:00:00   **clorith**   \n",
       "3035         Forums   2020-01-16   2020-01-16 17:00:00   **clorith**   \n",
       "3039         Forums   2020-01-16   2020-01-16 17:00:00   **clorith**   \n",
       "\n",
       "                Text time                                              Text   \\\n",
       "1     2020-02-28 16:05:00  Here is the agenda for today: https://make.wor...   \n",
       "2     2020-02-28 16:05:00                  (on \\n and a terrible connection)   \n",
       "14    2020-02-28 16:12:00       Next up: Accessibility team goals for WP 5.5   \n",
       "45    2020-02-28 16:36:00     well, I’ll summarize that in the meeting recap   \n",
       "46    2020-02-28 16:36:00                                         Next item?   \n",
       "...                   ...                                                ...   \n",
       "3012  2020-01-16 17:31:00  If someone wants to spearhead that, I'm all fo...   \n",
       "3020  2020-01-16 17:40:00  Well, if someone wants to take the reins on th...   \n",
       "3021  2020-01-16 17:40:00  All right, let's see if we can get some Open f...   \n",
       "3035  2020-01-16 17:50:00  We're nearing the top of the hour, any other l...   \n",
       "3039  2020-01-16 18:00:00  All right then, and with that I will say </mee...   \n",
       "\n",
       "                Code  \n",
       "1     Administration  \n",
       "2     Administration  \n",
       "14    Administration  \n",
       "45    Administration  \n",
       "46    Administration  \n",
       "...              ...  \n",
       "3012  Administration  \n",
       "3020  Administration  \n",
       "3021  Administration  \n",
       "3035  Administration  \n",
       "3039  Administration  \n",
       "\n",
       "[823 rows x 7 columns]"
      ]
     },
     "execution_count": 20,
     "metadata": {},
     "output_type": "execute_result"
    }
   ],
   "source": [
    "df.query('Code == \"Administration\"')"
   ]
  },
  {
   "cell_type": "markdown",
   "metadata": {},
   "source": [
    "感覺可以將intelligence改成admin，不然太過於imbalace\n",
    "\n",
    "# Data Cleansing\n",
    "\n",
    "For Code = Documentation \n",
    "1. Process Communication → Process communication\n",
    "2. Administrative → Administration\n",
    "3. Intelligent → Administration\n",
    "\n",
    "For all\n",
    "1. Encoding our label 'Code' to numbers"
   ]
  },
  {
   "cell_type": "code",
   "execution_count": 21,
   "metadata": {
    "scrolled": true
   },
   "outputs": [
    {
     "name": "stdout",
     "output_type": "stream",
     "text": [
      "Our code labeling are below :\n"
     ]
    },
    {
     "data": {
      "text/plain": [
       "{'Social': 0,\n",
       " 'Administration': 1,\n",
       " 'Planning': 2,\n",
       " 'Decision-making': 3,\n",
       " 'TBA': 4,\n",
       " 'Process communication': 5,\n",
       " 'Creativity': 6}"
      ]
     },
     "execution_count": 21,
     "metadata": {},
     "output_type": "execute_result"
    }
   ],
   "source": [
    "#Doc\n",
    "df.Code = df.Code.replace('Process Communication' , 'Process communication')\n",
    "df.Code = df.Code.replace('Administrative' , 'Administration')\n",
    "df.Code = df.Code.replace('Intellective' , 'Administration')\n",
    "\n",
    "\n",
    "#All\n",
    "Code_labeling_dict = dict()\n",
    "\n",
    "number = 0\n",
    "for code in df['Code'].unique():\n",
    "    Code_labeling_dict[code] = number\n",
    "    number = number + 1 \n",
    "print('Our code labeling are below :')\n",
    "\n",
    "# df.Code = df.Code.replace(Code_labeling_dict)\n",
    "\n",
    "Code_labeling_dict\n"
   ]
  },
  {
   "cell_type": "markdown",
   "metadata": {},
   "source": [
    "# Data Process\n",
    "\n",
    "1. Split data to train and val to fast-bert\n",
    "\n",
    "Take each code into split group \n",
    "\n",
    "\n",
    "train/test ratio = 8:2"
   ]
  },
  {
   "cell_type": "code",
   "execution_count": 22,
   "metadata": {},
   "outputs": [
    {
     "name": "stdout",
     "output_type": "stream",
     "text": [
      "processing  Administration\n",
      "processing  Decision-making\n",
      "processing  Planning\n",
      "processing  TBA\n",
      "processing  Process communication\n",
      "processing  Social\n",
      "processing  Creativity\n"
     ]
    }
   ],
   "source": [
    "code_num_dict = dict(df.Code.value_counts())\n",
    "\n",
    "\n",
    "\n",
    "\n",
    "collect_train_data = []\n",
    "collect_test_data = []\n",
    "collect_valid_data = []\n",
    "for key , value in code_num_dict.items():\n",
    "    print('processing ' , key)\n",
    "    split_size_ratio = 0.8\n",
    "    this_code_df = df.loc[df.Code == key].reset_index(drop = True)\n",
    "    split_size = int(value * split_size_ratio)\n",
    "    bridge = int((value - split_size)/2)\n",
    "    middle_size = split_size + bridge\n",
    "    train_data = this_code_df.iloc[:split_size , :]\n",
    "    test_data = this_code_df.iloc[split_size:middle_size , :]\n",
    "    valid_data = this_code_df.iloc[middle_size: , :]\n",
    "    \n",
    "    \n",
    "    collect_train_data.append(train_data)\n",
    "    collect_test_data.append(test_data)\n",
    "    collect_valid_data.append(valid_data)\n",
    "    \n",
    "train_data = pd.concat(collect_train_data).reset_index(drop = True)\n",
    "test_data = pd.concat(collect_test_data).reset_index(drop = True)\n",
    "valid_data = pd.concat(collect_valid_data).reset_index(drop = True)"
   ]
  },
  {
   "cell_type": "code",
   "execution_count": 23,
   "metadata": {},
   "outputs": [
    {
     "name": "stdout",
     "output_type": "stream",
     "text": [
      "Train data label\n",
      "Administration           0.277892\n",
      "Decision-making          0.251956\n",
      "Planning                 0.141622\n",
      "TBA                      0.135858\n",
      "Process communication    0.088514\n",
      "Social                   0.069576\n",
      "Creativity               0.034582\n",
      "Name: Code, dtype: float64\n",
      "----------------------------------------------------------------------------------------------------\n",
      "Test data label\n",
      "Administration           0.277228\n",
      "Decision-making          0.254125\n",
      "Planning                 0.141914\n",
      "TBA                      0.135314\n",
      "Process communication    0.089109\n",
      "Social                   0.069307\n",
      "Creativity               0.033003\n",
      "Name: Code, dtype: float64\n",
      "----------------------------------------------------------------------------------------------------\n",
      "Valid data label\n",
      "Administration           0.275974\n",
      "Decision-making          0.250000\n",
      "Planning                 0.142857\n",
      "TBA                      0.136364\n",
      "Process communication    0.087662\n",
      "Social                   0.071429\n",
      "Creativity               0.035714\n",
      "Name: Code, dtype: float64\n"
     ]
    }
   ],
   "source": [
    "print('Train data label')\n",
    "print(train_data.Code.value_counts(normalize = True))\n",
    "print('-' * 100)\n",
    "print('Test data label')\n",
    "print(test_data.Code.value_counts(normalize = True))\n",
    "print('-' * 100)\n",
    "print('Valid data label')\n",
    "print(valid_data.Code.value_counts(normalize = True))"
   ]
  },
  {
   "cell_type": "code",
   "execution_count": 27,
   "metadata": {},
   "outputs": [
    {
     "data": {
      "text/html": [
       "<div>\n",
       "<style scoped>\n",
       "    .dataframe tbody tr th:only-of-type {\n",
       "        vertical-align: middle;\n",
       "    }\n",
       "\n",
       "    .dataframe tbody tr th {\n",
       "        vertical-align: top;\n",
       "    }\n",
       "\n",
       "    .dataframe thead th {\n",
       "        text-align: right;\n",
       "    }\n",
       "</style>\n",
       "<table border=\"1\" class=\"dataframe\">\n",
       "  <thead>\n",
       "    <tr style=\"text-align: right;\">\n",
       "      <th></th>\n",
       "      <th>Text</th>\n",
       "      <th>Code</th>\n",
       "    </tr>\n",
       "  </thead>\n",
       "  <tbody>\n",
       "    <tr>\n",
       "      <th>0</th>\n",
       "      <td>Here is the agenda for today: https://make.wor...</td>\n",
       "      <td>1</td>\n",
       "    </tr>\n",
       "    <tr>\n",
       "      <th>1</th>\n",
       "      <td>(on \\n and a terrible connection)</td>\n",
       "      <td>1</td>\n",
       "    </tr>\n",
       "    <tr>\n",
       "      <th>2</th>\n",
       "      <td>Next up: Accessibility team goals for WP 5.5</td>\n",
       "      <td>1</td>\n",
       "    </tr>\n",
       "    <tr>\n",
       "      <th>3</th>\n",
       "      <td>well, I’ll summarize that in the meeting recap</td>\n",
       "      <td>1</td>\n",
       "    </tr>\n",
       "    <tr>\n",
       "      <th>4</th>\n",
       "      <td>Next item?</td>\n",
       "      <td>1</td>\n",
       "    </tr>\n",
       "  </tbody>\n",
       "</table>\n",
       "</div>"
      ],
      "text/plain": [
       "                                               Text   Code\n",
       "0  Here is the agenda for today: https://make.wor...     1\n",
       "1                  (on \\n and a terrible connection)     1\n",
       "2       Next up: Accessibility team goals for WP 5.5     1\n",
       "3     well, I’ll summarize that in the meeting recap     1\n",
       "4                                         Next item?     1"
      ]
     },
     "metadata": {},
     "output_type": "display_data"
    }
   ],
   "source": [
    "\"\"\" fast BERT \"\"\"\n",
    "# def transform_data_to_fast_bert(data):\n",
    "#     code_data = pd.get_dummies(data.Code).reset_index(drop = True)\n",
    "#     code_data['Text'] = data['Text ']\n",
    "#     return code_data\n",
    "\n",
    "\n",
    "# final_train_data = transform_data_to_fast_bert(train_data)\n",
    "# final_test_data =  transform_data_to_fast_bert(test_data)\n",
    "\n",
    "\n",
    "train_df = train_data[[ 'Text ', 'Code']].copy()\n",
    "test_df = test_data[[ 'Text ', 'Code']].copy()\n",
    "valid_df = valid_data[[ 'Text ', 'Code']].copy()\n",
    "\n",
    "train_df.Code = train_df.Code.replace(Code_labeling_dict)\n",
    "test_df.Code = test_df.Code.replace(Code_labeling_dict)\n",
    "valid_df.Code = valid_df.Code.replace(Code_labeling_dict)\n",
    "\n",
    "\n",
    "display(train_df.head())"
   ]
  },
  {
   "cell_type": "code",
   "execution_count": 28,
   "metadata": {},
   "outputs": [],
   "source": [
    "train_df.columns = ['text' , 'label']\n",
    "test_df.columns = ['text' , 'label']\n",
    "valid_df.columns = ['text' , 'label']"
   ]
  },
  {
   "cell_type": "markdown",
   "metadata": {},
   "source": [
    "# Export"
   ]
  },
  {
   "cell_type": "code",
   "execution_count": 29,
   "metadata": {},
   "outputs": [],
   "source": [
    "train_df.to_csv('train.csv' , index = False)\n",
    "test_df.to_csv('test.csv' , index=False)\n",
    "valid_df.to_csv('dev.csv' , index=False)"
   ]
  }
 ],
 "metadata": {
  "kernelspec": {
   "display_name": "Python 3",
   "language": "python",
   "name": "python3"
  },
  "language_info": {
   "codemirror_mode": {
    "name": "ipython",
    "version": 3
   },
   "file_extension": ".py",
   "mimetype": "text/x-python",
   "name": "python",
   "nbconvert_exporter": "python",
   "pygments_lexer": "ipython3",
   "version": "3.7.1"
  }
 },
 "nbformat": 4,
 "nbformat_minor": 2
}
