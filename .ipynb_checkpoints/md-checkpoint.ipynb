{
 "cells": [
  {
   "cell_type": "code",
   "execution_count": 1,
   "metadata": {},
   "outputs": [
    {
     "data": {
      "text/html": [
       "<script type=\"text/javascript\">window.PlotlyConfig = {MathJaxConfig: 'local'};</script><script type=\"text/javascript\">if (window.MathJax) {MathJax.Hub.Config({SVG: {font: \"STIX-Web\"}});}</script><script>requirejs.config({paths: { 'plotly': ['https://cdn.plot.ly/plotly-latest.min']},});if(!window._Plotly) {require(['plotly'],function(plotly) {window._Plotly=plotly;});}</script>"
      ],
      "text/vnd.plotly.v1+html": [
       "<script type=\"text/javascript\">window.PlotlyConfig = {MathJaxConfig: 'local'};</script><script type=\"text/javascript\">if (window.MathJax) {MathJax.Hub.Config({SVG: {font: \"STIX-Web\"}});}</script><script>requirejs.config({paths: { 'plotly': ['https://cdn.plot.ly/plotly-latest.min']},});if(!window._Plotly) {require(['plotly'],function(plotly) {window._Plotly=plotly;});}</script>"
      ]
     },
     "metadata": {},
     "output_type": "display_data"
    },
    {
     "data": {
      "text/html": [
       "<script type=\"text/javascript\">window.PlotlyConfig = {MathJaxConfig: 'local'};</script><script type=\"text/javascript\">if (window.MathJax) {MathJax.Hub.Config({SVG: {font: \"STIX-Web\"}});}</script><script>requirejs.config({paths: { 'plotly': ['https://cdn.plot.ly/plotly-latest.min']},});if(!window._Plotly) {require(['plotly'],function(plotly) {window._Plotly=plotly;});}</script>"
      ],
      "text/vnd.plotly.v1+html": [
       "<script type=\"text/javascript\">window.PlotlyConfig = {MathJaxConfig: 'local'};</script><script type=\"text/javascript\">if (window.MathJax) {MathJax.Hub.Config({SVG: {font: \"STIX-Web\"}});}</script><script>requirejs.config({paths: { 'plotly': ['https://cdn.plot.ly/plotly-latest.min']},});if(!window._Plotly) {require(['plotly'],function(plotly) {window._Plotly=plotly;});}</script>"
      ]
     },
     "metadata": {},
     "output_type": "display_data"
    },
    {
     "data": {
      "text/html": [
       "<script type=\"text/javascript\">window.PlotlyConfig = {MathJaxConfig: 'local'};</script><script type=\"text/javascript\">if (window.MathJax) {MathJax.Hub.Config({SVG: {font: \"STIX-Web\"}});}</script><script>requirejs.config({paths: { 'plotly': ['https://cdn.plot.ly/plotly-latest.min']},});if(!window._Plotly) {require(['plotly'],function(plotly) {window._Plotly=plotly;});}</script>"
      ],
      "text/vnd.plotly.v1+html": [
       "<script type=\"text/javascript\">window.PlotlyConfig = {MathJaxConfig: 'local'};</script><script type=\"text/javascript\">if (window.MathJax) {MathJax.Hub.Config({SVG: {font: \"STIX-Web\"}});}</script><script>requirejs.config({paths: { 'plotly': ['https://cdn.plot.ly/plotly-latest.min']},});if(!window._Plotly) {require(['plotly'],function(plotly) {window._Plotly=plotly;});}</script>"
      ]
     },
     "metadata": {},
     "output_type": "display_data"
    },
    {
     "data": {
      "application/vnd.jupyter.widget-view+json": {
       "model_id": "c93adcfe3dda4b64b887f77a7578ca16",
       "version_major": 2,
       "version_minor": 0
      },
      "text/plain": [
       "HBox(children=(IntProgress(value=1, bar_style='info', max=1), HTML(value='')))"
      ]
     },
     "metadata": {},
     "output_type": "display_data"
    },
    {
     "name": "stdout",
     "output_type": "stream",
     "text": [
      "\n"
     ]
    }
   ],
   "source": [
    "import pandas as pd\n",
    "import os\n",
    "import numpy as np\n",
    "import matplotlib.pyplot as plt\n",
    "import seaborn as sns\n",
    "#可以製作互動式圖表的套件\n",
    "import plotly.plotly as py\n",
    "import plotly.graph_objs as go\n",
    "from plotly.offline import iplot,init_notebook_mode\n",
    "%matplotlib inline\n",
    "#為可以將pandas和plotly結合的套件\n",
    "import cufflinks\n",
    "cufflinks.go_offline(connected=True)\n",
    "init_notebook_mode(connected=True)\n",
    "#放我們的進度條以掌握資料處理進度\n",
    "from tqdm import tqdm_notebook\n",
    "tqdm_notebook().pandas()\n",
    "#讓apply效率提高48倍\n",
    "import swifter\n",
    "# 讓Excel跟Python搭配\n",
    "import qgrid\n",
    "qgrid.set_grid_option('maxVisibleRows', 7)\n",
    "from utils import *"
   ]
  },
  {
   "cell_type": "markdown",
   "metadata": {},
   "source": [
    "# Util"
   ]
  },
  {
   "cell_type": "code",
   "execution_count": 6,
   "metadata": {},
   "outputs": [],
   "source": [
    "import re\n",
    "from sklearn.feature_extraction.text import CountVectorizer\n",
    "import gensim\n",
    "from gensim.utils import simple_preprocess\n",
    "from gensim.parsing.preprocessing import STOPWORDS\n",
    "from nltk.stem import WordNetLemmatizer, SnowballStemmer\n",
    "from nltk.stem.porter import *\n",
    "import numpy as np\n",
    "np.random.seed(2018)\n",
    "import nltk\n",
    "# nltk.download('wordnet')\n",
    "\n",
    "\n",
    "def keyword_collect(keyword):\n",
    "    word = []\n",
    "    score = []\n",
    "    for i in model.most_similar(keyword):\n",
    "        word.append(i[0])\n",
    "        score.append(model[i[0]])\n",
    "    return word , score\n",
    "\n",
    "def plot_word2vec(X_reduced , total_word , all_word):\n",
    "    colors = sns.color_palette()\n",
    "    plt.figure(figsize = (12,6))\n",
    "    plt.title('word2vec 視覺化結果', fontsize= 18)\n",
    "    temp_df = pd.DataFrame(X_reduced)\n",
    "    temp_df['word'] = pd.Series(total_word)\n",
    "    temp_df['type'] = pd.Series(all_word)\n",
    "    ax = sns.scatterplot(temp_df[0] ,temp_df[1] ,hue = 'type',data=temp_df ,color = colors[1])\n",
    "    for i in range(len(temp_df)):\n",
    "        ax.text(temp_df[0][i] , temp_df[1][i] , temp_df['word'][i] , fontsize = 12)\n",
    "\n",
    "def build_lda_model(tidy_text_segment):\n",
    "    id2word = gensim.corpora.Dictionary(tidy_text_segment);\n",
    "    corpus = [id2word.doc2bow(text) for text in tidy_text_segment];\n",
    "    lda = ldamodel.LdaModel(corpus=corpus, id2word=id2word, num_topics=num_topics);\n",
    "    return lda\n",
    "\n",
    "\n",
    "def get_lda_topics(model, num_topics = 10):\n",
    "    word_dict = {};\n",
    "    for i in range(num_topics):\n",
    "        words = model.show_topic(i, topn = 20);\n",
    "        word_dict['Topic # ' + '{:02d}'.format(i+1)] = [i[0] for i in words];\n",
    "    return pd.DataFrame(word_dict);\n",
    "\n",
    "def get_this_topic(resource , num_topics):\n",
    "    lda = build_lda_model(resource)\n",
    "    return get_lda_topics(lda , num_topics)\n",
    "\n",
    "\n",
    "# Helper function\n",
    "def plot_10_most_common_words(count_data, count_vectorizer):\n",
    "    import matplotlib.pyplot as plt\n",
    "    words = count_vectorizer.get_feature_names()\n",
    "    total_counts = np.zeros(len(words))\n",
    "    for t in count_data:\n",
    "        total_counts+=t.toarray()[0]\n",
    "    \n",
    "    count_dict = (zip(words, total_counts))\n",
    "    count_dict = sorted(count_dict, key=lambda x:x[1], reverse=True)[0:10]\n",
    "    words = [w[0] for w in count_dict]\n",
    "    counts = [w[1] for w in count_dict]\n",
    "    x_pos = np.arange(len(words)) \n",
    "    \n",
    "    plt.figure(2, figsize=(15, 15/1.6180))\n",
    "    plt.subplot(title='10 most common words')\n",
    "    sns.set_context(\"notebook\", font_scale=1.25, rc={\"lines.linewidth\": 2.5})\n",
    "    sns.barplot(x_pos, counts, palette='husl')\n",
    "    plt.xticks(x_pos, words, rotation=0) \n",
    "    plt.xlabel('words')\n",
    "    plt.ylabel('counts')\n",
    "    plt.show()\n",
    "    \n",
    "def exe_freq_word(segment):\n",
    "    # Initialise the count vectorizer with the English stop words\n",
    "    count_vectorizer = CountVectorizer()\n",
    "    # Fit and transform the processed titles\n",
    "    count_data = count_vectorizer.fit_transform(segment)\n",
    "    print('Top 10 most common words')\n",
    "    # Visualise the 10 most common words\n",
    "    plot_10_most_common_words(count_data, count_vectorizer)\n",
    "\n",
    "\n",
    "def lemmatize_stemming(text):\n",
    "    stemmer = SnowballStemmer('english')\n",
    "    return stemmer.stem(WordNetLemmatizer().lemmatize(text, pos='v'))\n",
    "\n",
    "def preprocess(text):\n",
    "    result = []\n",
    "    for token in gensim.utils.simple_preprocess(text):\n",
    "        if token not in gensim.parsing.preprocessing.STOPWORDS and len(token) > 3:\n",
    "            result.append(lemmatize_stemming(token))\n",
    "    return result\n",
    "\n",
    "def transform_data_from_md_to_json(path , slack_channel):\n",
    "    print('processing {} channel'.format(slack_channel))\n",
    "\n",
    "    file_path = path + slack_channel + '.md'\n",
    "\n",
    "    fh = open(file_path)\n",
    "    for line in fh:\n",
    "        data=fh.read()\n",
    "    fh.close()\n",
    "\n",
    "    data_l = data.split('\\n')\n",
    "    # data_l = [x for x in data_l if  '**'  in x]\n",
    "    data_l = [x for x in data_l if  'AM' in x or 'PM' in x]\n",
    "    data_l = [x.rstrip() for x in data_l  if len(x) > 2]\n",
    "    print(len(data_l))\n",
    "    # filter chatbot \n",
    "    data_l = [x for x in data_l if  'WordPress commit' not in x ]\n",
    "    data_l = [x for x in data_l if  'WordPress Trac' not in x ]\n",
    "    print(len(data_l))\n",
    "\n",
    "    data_json = []\n",
    "\n",
    "    start_p =[] \n",
    "    end_p = []\n",
    "    all_data = []\n",
    "    for idx ,i  in enumerate( data_l):\n",
    "        data = {}\n",
    "        data['time'] = i[0:9]\n",
    "        data['text'] = i[9:]\n",
    "\n",
    "        if '&lt;meeting' in i:\n",
    "            start_p.append(idx)\n",
    "        elif '&lt;/meeting' in i :\n",
    "            end_p.append(idx)\n",
    "\n",
    "        json_data = json.dumps(data)\n",
    "        data_json.append(json_data)\n",
    "        all_data.append(data)\n",
    "    return all_data\n",
    "\n",
    "\n",
    "def filter_user(text):\n",
    "#     s = '**maedahbatool**: <@U28P43GKB> Do we have a n..'\n",
    "    try:\n",
    "        account = re.findall('\\*+[\\S]+\\*+',text)[0].replace('*','')\n",
    "    except:\n",
    "        account = ''\n",
    "    return account\n",
    "\n",
    "def remove_user(text):\n",
    "#     s = '**maedahbatool**: <@U28P43GKB> Do we have a n..'\n",
    "    try:\n",
    "        account = re.findall('\\*+[\\S]+\\*+',text)[0]\n",
    "    except:\n",
    "        account = ''\n",
    "    clean_text = text.replace(account , '').replace(':','')\n",
    "    \n",
    "    return clean_text\n",
    "    "
   ]
  },
  {
   "cell_type": "markdown",
   "metadata": {},
   "source": [
    "# System path and file"
   ]
  },
  {
   "cell_type": "code",
   "execution_count": 7,
   "metadata": {},
   "outputs": [],
   "source": [
    "path = os.getcwd().replace('code' , 'raw_data/')"
   ]
  },
  {
   "cell_type": "markdown",
   "metadata": {},
   "source": [
    "# Data "
   ]
  },
  {
   "cell_type": "code",
   "execution_count": 8,
   "metadata": {},
   "outputs": [
    {
     "name": "stdout",
     "output_type": "stream",
     "text": [
      "processing marketing channel\n",
      "973\n",
      "973\n"
     ]
    },
    {
     "data": {
      "text/html": [
       "<div>\n",
       "<style scoped>\n",
       "    .dataframe tbody tr th:only-of-type {\n",
       "        vertical-align: middle;\n",
       "    }\n",
       "\n",
       "    .dataframe tbody tr th {\n",
       "        vertical-align: top;\n",
       "    }\n",
       "\n",
       "    .dataframe thead th {\n",
       "        text-align: right;\n",
       "    }\n",
       "</style>\n",
       "<table border=\"1\" class=\"dataframe\">\n",
       "  <thead>\n",
       "    <tr style=\"text-align: right;\">\n",
       "      <th></th>\n",
       "      <th>text</th>\n",
       "      <th>time</th>\n",
       "      <th>user</th>\n",
       "    </tr>\n",
       "  </thead>\n",
       "  <tbody>\n",
       "    <tr>\n",
       "      <th>968</th>\n",
       "      <td>Good job on the notes.</td>\n",
       "      <td>1:22 AM</td>\n",
       "      <td>gidgey</td>\n",
       "    </tr>\n",
       "    <tr>\n",
       "      <th>969</th>\n",
       "      <td>So I spaced out and thought that we were off ...</td>\n",
       "      <td>1:22 AM</td>\n",
       "      <td>gidgey</td>\n",
       "    </tr>\n",
       "    <tr>\n",
       "      <th>970</th>\n",
       "      <td>I thought we were off today as well, but glad...</td>\n",
       "      <td>1:38 AM</td>\n",
       "      <td>mikerbg</td>\n",
       "    </tr>\n",
       "    <tr>\n",
       "      <th>971</th>\n",
       "      <td>morteza20 has joined the channel</td>\n",
       "      <td>5:59 AM</td>\n",
       "      <td>morteza20</td>\n",
       "    </tr>\n",
       "    <tr>\n",
       "      <th>972</th>\n",
       "      <td>Hey! Sorry I missed the meeting today, I’ve p...</td>\n",
       "      <td>7:10 AM</td>\n",
       "      <td>scottjones</td>\n",
       "    </tr>\n",
       "  </tbody>\n",
       "</table>\n",
       "</div>"
      ],
      "text/plain": [
       "                                                  text       time        user\n",
       "968                             Good job on the notes.   1:22 AM       gidgey\n",
       "969   So I spaced out and thought that we were off ...   1:22 AM       gidgey\n",
       "970   I thought we were off today as well, but glad...   1:38 AM      mikerbg\n",
       "971                   morteza20 has joined the channel   5:59 AM    morteza20\n",
       "972   Hey! Sorry I missed the meeting today, I’ve p...   7:10 AM   scottjones"
      ]
     },
     "execution_count": 8,
     "metadata": {},
     "output_type": "execute_result"
    }
   ],
   "source": [
    "import json\n",
    "\n",
    "\n",
    "\"\"\"\n",
    "original code\n",
    "\n",
    "\n",
    "channel_name = 'slackhelp'\n",
    "file_path = 'raw_data/{}.md'.format(channel_name)\n",
    "\n",
    "\"\"\"\n",
    "# slack text to json\n",
    "\n",
    "\n",
    "\n",
    "\n",
    "\n",
    "mkt = transform_data_from_md_to_json(path , 'marketing')\n",
    "df = pd.DataFrame(mkt)\n",
    "\n",
    "df['user'] = df.text.apply(filter_user )\n",
    "df['text'] = df.text.apply(remove_user)\n",
    "df = df[df.columns].astype(str)\n",
    "df.tail()"
   ]
  },
  {
   "cell_type": "code",
   "execution_count": 9,
   "metadata": {},
   "outputs": [
    {
     "data": {
      "text/html": [
       "<div>\n",
       "<style scoped>\n",
       "    .dataframe tbody tr th:only-of-type {\n",
       "        vertical-align: middle;\n",
       "    }\n",
       "\n",
       "    .dataframe tbody tr th {\n",
       "        vertical-align: top;\n",
       "    }\n",
       "\n",
       "    .dataframe thead th {\n",
       "        text-align: right;\n",
       "    }\n",
       "</style>\n",
       "<table border=\"1\" class=\"dataframe\">\n",
       "  <thead>\n",
       "    <tr style=\"text-align: right;\">\n",
       "      <th></th>\n",
       "      <th>text</th>\n",
       "    </tr>\n",
       "    <tr>\n",
       "      <th>time</th>\n",
       "      <th></th>\n",
       "    </tr>\n",
       "  </thead>\n",
       "  <tbody>\n",
       "    <tr>\n",
       "      <th>:</th>\n",
       "      <td>redcircle  NAME OF CARD</td>\n",
       "    </tr>\n",
       "    <tr>\n",
       "      <th>______</th>\n",
       "      <td>__BEGIN EXAMPLE___________END EXAMPLE_________</td>\n",
       "    </tr>\n",
       "    <tr>\n",
       "      <th>10:00 PM</th>\n",
       "      <td>Hi allanandresch welcome! It’s just here in ...</td>\n",
       "    </tr>\n",
       "    <tr>\n",
       "      <th>10:01 PM</th>\n",
       "      <td>&lt;https//make.wordpress.org/marketing/&gt; you’l...</td>\n",
       "    </tr>\n",
       "    <tr>\n",
       "      <th>10:02 AM</th>\n",
       "      <td>Officially apologizing for being so lost and...</td>\n",
       "    </tr>\n",
       "  </tbody>\n",
       "</table>\n",
       "</div>"
      ],
      "text/plain": [
       "                                                        text\n",
       "time                                                        \n",
       "        :                            redcircle  NAME OF CARD\n",
       "   ______     __BEGIN EXAMPLE___________END EXAMPLE_________\n",
       " 10:00 PM    Hi allanandresch welcome! It’s just here in ...\n",
       " 10:01 PM    <https//make.wordpress.org/marketing/> you’l...\n",
       " 10:02 AM    Officially apologizing for being so lost and..."
      ]
     },
     "execution_count": 9,
     "metadata": {},
     "output_type": "execute_result"
    }
   ],
   "source": [
    "text_df = pd.DataFrame(df.groupby('time').text.sum())\n",
    "text_df.head()"
   ]
  },
  {
   "cell_type": "markdown",
   "metadata": {},
   "source": [
    "# Text preprocess"
   ]
  },
  {
   "cell_type": "code",
   "execution_count": 10,
   "metadata": {},
   "outputs": [
    {
     "name": "stderr",
     "output_type": "stream",
     "text": [
      "[nltk_data] Downloading package wordnet to /Users/Dennis/nltk_data...\n",
      "[nltk_data]   Package wordnet is already up-to-date!\n"
     ]
    },
    {
     "data": {
      "text/plain": [
       "True"
      ]
     },
     "execution_count": 10,
     "metadata": {},
     "output_type": "execute_result"
    }
   ],
   "source": [
    "import gensim\n",
    "from gensim.utils import simple_preprocess\n",
    "from gensim.parsing.preprocessing import STOPWORDS\n",
    "from nltk.stem import WordNetLemmatizer, SnowballStemmer\n",
    "from nltk.stem.porter import *\n",
    "import numpy as np\n",
    "np.random.seed(2018)\n",
    "import nltk\n",
    "# nltk.download('wordnet')"
   ]
  },
  {
   "cell_type": "markdown",
   "metadata": {},
   "source": [
    "1. Tokenization: Split the text into sentences and the sentences into words. Lowercase the words and remove punctuation.\n",
    "2. Words that have fewer than 3 characters are removed.\n",
    "3. All stopwords are removed.\n",
    "4. Words are lemmatized — words in third person are changed to first person and verbs in past and future tenses are changed into present.\n",
    "5. Words are stemmed — words are reduced to their root form."
   ]
  },
  {
   "cell_type": "code",
   "execution_count": 11,
   "metadata": {},
   "outputs": [
    {
     "data": {
      "text/plain": [
       "time\n",
       "        :                                     [redcircl, card]\n",
       "   ______                                                   []\n",
       " 10:00 PM    [allanandresch, welcom, slack, meet, start, ho...\n",
       " 10:01 PM      [https, wordpress, market, latest, older, note]\n",
       " 10:02 AM    [offici, apolog, lose, go, week, updat, friday...\n",
       " 10:03 AM                                       [welcom, mftl]\n",
       " 10:03 PM                      [siobhanseija, thank, go, read]\n",
       " 10:09 AM    [publish, https, wordpress, market, differ, wo...\n",
       " 10:12 AM    [wordpress, market, https, wordpress, market, ...\n",
       " 10:13 PM    [share, recent, http, wordpress, wordpress, ma...\n",
       "Name: text, dtype: object"
      ]
     },
     "execution_count": 11,
     "metadata": {},
     "output_type": "execute_result"
    }
   ],
   "source": [
    "processed_docs = text_df['text'].map(preprocess)\n",
    "processed_docs[:10]"
   ]
  },
  {
   "cell_type": "code",
   "execution_count": 12,
   "metadata": {},
   "outputs": [
    {
     "name": "stdout",
     "output_type": "stream",
     "text": [
      "0 card\n",
      "1 redcircl\n",
      "2 access\n",
      "3 allanandresch\n",
      "4 check\n",
      "5 drive\n",
      "6 feel\n",
      "7 go\n",
      "8 hour\n",
      "9 like\n",
      "10 link\n"
     ]
    }
   ],
   "source": [
    "dictionary = gensim.corpora.Dictionary(processed_docs)\n",
    "count = 0\n",
    "for k, v in dictionary.iteritems():\n",
    "    print(k, v)\n",
    "    count += 1\n",
    "    if count > 10:\n",
    "        break\n",
    "        \n",
    "dictionary.filter_extremes(no_below=15, no_above=0.5, keep_n=100000)\n",
    "\n",
    "bow_corpus = [dictionary.doc2bow(doc) for doc in processed_docs]"
   ]
  },
  {
   "cell_type": "code",
   "execution_count": 13,
   "metadata": {},
   "outputs": [
    {
     "name": "stdout",
     "output_type": "stream",
     "text": [
      "Top 10 most common words\n"
     ]
    },
    {
     "data": {
      "image/png": "[encoded data removed]",
      "text/plain": [
       "<Figure size 1080x667.491 with 1 Axes>"
      ]
     },
     "metadata": {
      "needs_background": "light"
     },
     "output_type": "display_data"
    }
   ],
   "source": [
    "\n",
    "segment  = processed_docs.apply(lambda x: ' '.join(x))\n",
    "\n",
    "exe_freq_word(segment)"
   ]
  },
  {
   "cell_type": "markdown",
   "metadata": {},
   "source": [
    "# Word2Vec"
   ]
  },
  {
   "cell_type": "code",
   "execution_count": 14,
   "metadata": {},
   "outputs": [
    {
     "name": "stderr",
     "output_type": "stream",
     "text": [
      "/Users/Dennis/anaconda3/lib/python3.7/site-packages/ipykernel_launcher.py:6: DeprecationWarning:\n",
      "\n",
      "Call to deprecated `most_similar` (Method will be removed in 4.0.0, use self.wv.most_similar() instead).\n",
      "\n"
     ]
    },
    {
     "data": {
      "text/plain": [
       "[('card', 0.9896990656852722),\n",
       " ('wordpress', 0.9896416664123535),\n",
       " ('team', 0.9886146783828735),\n",
       " ('https', 0.9881446957588196),\n",
       " ('creat', 0.9870138168334961),\n",
       " ('meet', 0.9868408441543579),\n",
       " ('work', 0.9868309497833252),\n",
       " ('week', 0.9864317178726196),\n",
       " ('video', 0.9863337278366089),\n",
       " ('link', 0.9854289293289185)]"
      ]
     },
     "execution_count": 14,
     "metadata": {},
     "output_type": "execute_result"
    }
   ],
   "source": [
    "from gensim.models import word2vec\n",
    "\n",
    "\n",
    "text = list(processed_docs)\n",
    "model = word2vec.Word2Vec(text, min_count=5, size=200)\n",
    "model.most_similar('market')"
   ]
  },
  {
   "cell_type": "code",
   "execution_count": 15,
   "metadata": {},
   "outputs": [
    {
     "name": "stderr",
     "output_type": "stream",
     "text": [
      "/Users/Dennis/anaconda3/lib/python3.7/site-packages/ipykernel_launcher.py:17: DeprecationWarning:\n",
      "\n",
      "Call to deprecated `most_similar` (Method will be removed in 4.0.0, use self.wv.most_similar() instead).\n",
      "\n",
      "/Users/Dennis/anaconda3/lib/python3.7/site-packages/ipykernel_launcher.py:19: DeprecationWarning:\n",
      "\n",
      "Call to deprecated `__getitem__` (Method will be removed in 4.0.0, use self.wv.__getitem__() instead).\n",
      "\n"
     ]
    },
    {
     "data": {
      "image/png": "[encoded data removed]",
      "text/plain": [
       "<Figure size 864x432 with 1 Axes>"
      ]
     },
     "metadata": {
      "needs_background": "light"
     },
     "output_type": "display_data"
    }
   ],
   "source": [
    "from sklearn.decomposition import PCA\n",
    "\n",
    "\n",
    "\n",
    "compare_list = ['channel','meet','market','channel']\n",
    "\n",
    "#\n",
    "total_score = []\n",
    "total_word=  []\n",
    "for word in compare_list:\n",
    "    word , score = keyword_collect(word)\n",
    "    total_score = total_score + score\n",
    "    total_word = total_word + word\n",
    "#visualize\n",
    "X_reduced = PCA(n_components= 2).fit_transform(total_score)\n",
    "\n",
    "all_word = []\n",
    "for word in compare_list:\n",
    "    for i in range(10):\n",
    "        all_word.append(word)\n",
    "        \n",
    "plot_word2vec(X_reduced , total_word , all_word)"
   ]
  },
  {
   "cell_type": "markdown",
   "metadata": {},
   "source": [
    "# LDA modeling"
   ]
  },
  {
   "cell_type": "code",
   "execution_count": 16,
   "metadata": {},
   "outputs": [
    {
     "data": {
      "text/html": [
       "<div>\n",
       "<style scoped>\n",
       "    .dataframe tbody tr th:only-of-type {\n",
       "        vertical-align: middle;\n",
       "    }\n",
       "\n",
       "    .dataframe tbody tr th {\n",
       "        vertical-align: top;\n",
       "    }\n",
       "\n",
       "    .dataframe thead th {\n",
       "        text-align: right;\n",
       "    }\n",
       "</style>\n",
       "<table border=\"1\" class=\"dataframe\">\n",
       "  <thead>\n",
       "    <tr style=\"text-align: right;\">\n",
       "      <th></th>\n",
       "      <th>Topic # 01</th>\n",
       "      <th>Topic # 02</th>\n",
       "      <th>Topic # 03</th>\n",
       "      <th>Topic # 04</th>\n",
       "    </tr>\n",
       "  </thead>\n",
       "  <tbody>\n",
       "    <tr>\n",
       "      <th>0</th>\n",
       "      <td>wordpress</td>\n",
       "      <td>card</td>\n",
       "      <td>join</td>\n",
       "      <td>join</td>\n",
       "    </tr>\n",
       "    <tr>\n",
       "      <th>1</th>\n",
       "      <td>thank</td>\n",
       "      <td>https</td>\n",
       "      <td>channel</td>\n",
       "      <td>channel</td>\n",
       "    </tr>\n",
       "    <tr>\n",
       "      <th>2</th>\n",
       "      <td>market</td>\n",
       "      <td>wordpress</td>\n",
       "      <td>trello</td>\n",
       "      <td>market</td>\n",
       "    </tr>\n",
       "    <tr>\n",
       "      <th>3</th>\n",
       "      <td>help</td>\n",
       "      <td>welcom</td>\n",
       "      <td>work</td>\n",
       "      <td>hello</td>\n",
       "    </tr>\n",
       "    <tr>\n",
       "      <th>4</th>\n",
       "      <td>https</td>\n",
       "      <td>trello</td>\n",
       "      <td>card</td>\n",
       "      <td>wordpress</td>\n",
       "    </tr>\n",
       "    <tr>\n",
       "      <th>5</th>\n",
       "      <td>channel</td>\n",
       "      <td>video</td>\n",
       "      <td>thread</td>\n",
       "      <td>team</td>\n",
       "    </tr>\n",
       "    <tr>\n",
       "      <th>6</th>\n",
       "      <td>need</td>\n",
       "      <td>thank</td>\n",
       "      <td>https</td>\n",
       "      <td>meet</td>\n",
       "    </tr>\n",
       "    <tr>\n",
       "      <th>7</th>\n",
       "      <td>card</td>\n",
       "      <td>work</td>\n",
       "      <td>question</td>\n",
       "      <td>week</td>\n",
       "    </tr>\n",
       "    <tr>\n",
       "      <th>8</th>\n",
       "      <td>team</td>\n",
       "      <td>meet</td>\n",
       "      <td>board</td>\n",
       "      <td>thank</td>\n",
       "    </tr>\n",
       "    <tr>\n",
       "      <th>9</th>\n",
       "      <td>note</td>\n",
       "      <td>team</td>\n",
       "      <td>market</td>\n",
       "      <td>today</td>\n",
       "    </tr>\n",
       "    <tr>\n",
       "      <th>10</th>\n",
       "      <td>join</td>\n",
       "      <td>help</td>\n",
       "      <td>updat</td>\n",
       "      <td>time</td>\n",
       "    </tr>\n",
       "    <tr>\n",
       "      <th>11</th>\n",
       "      <td>contribut</td>\n",
       "      <td>need</td>\n",
       "      <td>team</td>\n",
       "      <td>contributor</td>\n",
       "    </tr>\n",
       "    <tr>\n",
       "      <th>12</th>\n",
       "      <td>know</td>\n",
       "      <td>note</td>\n",
       "      <td>task</td>\n",
       "      <td>guy</td>\n",
       "    </tr>\n",
       "    <tr>\n",
       "      <th>13</th>\n",
       "      <td>meet</td>\n",
       "      <td>googl</td>\n",
       "      <td>video</td>\n",
       "      <td>contribut</td>\n",
       "    </tr>\n",
       "    <tr>\n",
       "      <th>14</th>\n",
       "      <td>project</td>\n",
       "      <td>updat</td>\n",
       "      <td>thank</td>\n",
       "      <td>need</td>\n",
       "    </tr>\n",
       "    <tr>\n",
       "      <th>15</th>\n",
       "      <td>work</td>\n",
       "      <td>link</td>\n",
       "      <td>happi</td>\n",
       "      <td>good</td>\n",
       "    </tr>\n",
       "    <tr>\n",
       "      <th>16</th>\n",
       "      <td>want</td>\n",
       "      <td>gidgey</td>\n",
       "      <td>lead</td>\n",
       "      <td>work</td>\n",
       "    </tr>\n",
       "    <tr>\n",
       "      <th>17</th>\n",
       "      <td>week</td>\n",
       "      <td>thread</td>\n",
       "      <td>peopl</td>\n",
       "      <td>wcahmedabad</td>\n",
       "    </tr>\n",
       "    <tr>\n",
       "      <th>18</th>\n",
       "      <td>updat</td>\n",
       "      <td>like</td>\n",
       "      <td>survey</td>\n",
       "      <td>https</td>\n",
       "    </tr>\n",
       "    <tr>\n",
       "      <th>19</th>\n",
       "      <td>today</td>\n",
       "      <td>join</td>\n",
       "      <td>answer</td>\n",
       "      <td>publish</td>\n",
       "    </tr>\n",
       "  </tbody>\n",
       "</table>\n",
       "</div>"
      ],
      "text/plain": [
       "   Topic # 01 Topic # 02 Topic # 03   Topic # 04\n",
       "0   wordpress       card       join         join\n",
       "1       thank      https    channel      channel\n",
       "2      market  wordpress     trello       market\n",
       "3        help     welcom       work        hello\n",
       "4       https     trello       card    wordpress\n",
       "5     channel      video     thread         team\n",
       "6        need      thank      https         meet\n",
       "7        card       work   question         week\n",
       "8        team       meet      board        thank\n",
       "9        note       team     market        today\n",
       "10       join       help      updat         time\n",
       "11  contribut       need       team  contributor\n",
       "12       know       note       task          guy\n",
       "13       meet      googl      video    contribut\n",
       "14    project      updat      thank         need\n",
       "15       work       link      happi         good\n",
       "16       want     gidgey       lead         work\n",
       "17       week     thread      peopl  wcahmedabad\n",
       "18      updat       like     survey        https\n",
       "19      today       join     answer      publish"
      ]
     },
     "metadata": {},
     "output_type": "display_data"
    }
   ],
   "source": [
    "import gensim\n",
    "# Load the LDA model from sk-learn\n",
    "from gensim.models import ldamodel\n",
    "\n",
    "num_topics = 10\n",
    "#分類別產生主題\n",
    "\n",
    "topic = get_this_topic( processed_docs ,4)\n",
    "display(topic)"
   ]
  },
  {
   "cell_type": "code",
   "execution_count": 17,
   "metadata": {},
   "outputs": [
    {
     "name": "stdout",
     "output_type": "stream",
     "text": [
      "Topic: 0 \n",
      "Words: 0.229*\"join\" + 0.226*\"channel\" + 0.065*\"video\" + 0.044*\"market\" + 0.031*\"card\" + 0.022*\"thank\" + 0.020*\"blog\" + 0.019*\"trello\" + 0.017*\"link\" + 0.016*\"team\"\n",
      "Topic: 1 \n",
      "Words: 0.101*\"https\" + 0.084*\"wordpress\" + 0.073*\"market\" + 0.062*\"case\" + 0.046*\"studi\" + 0.046*\"gidgey\" + 0.038*\"trello\" + 0.037*\"need\" + 0.034*\"help\" + 0.033*\"copi\"\n",
      "Topic: 2 \n",
      "Words: 0.155*\"welcom\" + 0.110*\"hello\" + 0.058*\"busi\" + 0.049*\"wordpress\" + 0.040*\"time\" + 0.039*\"join\" + 0.035*\"channel\" + 0.030*\"like\" + 0.027*\"need\" + 0.026*\"trello\"\n",
      "Topic: 3 \n",
      "Words: 0.090*\"meet\" + 0.043*\"note\" + 0.042*\"updat\" + 0.040*\"thank\" + 0.036*\"today\" + 0.034*\"help\" + 0.030*\"need\" + 0.029*\"like\" + 0.028*\"think\" + 0.026*\"work\"\n",
      "Topic: 4 \n",
      "Words: 0.090*\"market\" + 0.058*\"team\" + 0.055*\"good\" + 0.055*\"thank\" + 0.053*\"card\" + 0.043*\"contributor\" + 0.041*\"trello\" + 0.041*\"work\" + 0.036*\"hello\" + 0.031*\"lead\"\n",
      "Topic: 5 \n",
      "Words: 0.065*\"awesom\" + 0.055*\"card\" + 0.050*\"link\" + 0.039*\"contributor\" + 0.037*\"post\" + 0.037*\"join\" + 0.037*\"team\" + 0.033*\"like\" + 0.032*\"write\" + 0.030*\"market\"\n",
      "Topic: 6 \n",
      "Words: 0.057*\"leav\" + 0.057*\"channel\" + 0.049*\"card\" + 0.045*\"updat\" + 0.043*\"go\" + 0.036*\"meet\" + 0.035*\"need\" + 0.035*\"time\" + 0.030*\"team\" + 0.027*\"trello\"\n",
      "Topic: 7 \n",
      "Words: 0.197*\"wordpress\" + 0.188*\"market\" + 0.122*\"team\" + 0.071*\"https\" + 0.051*\"note\" + 0.036*\"thank\" + 0.023*\"contribut\" + 0.018*\"know\" + 0.016*\"gidgey\" + 0.015*\"communiti\"\n",
      "Topic: 8 \n",
      "Words: 0.070*\"trello\" + 0.051*\"wordpress\" + 0.050*\"https\" + 0.045*\"wordcamp\" + 0.041*\"work\" + 0.036*\"contributor\" + 0.035*\"time\" + 0.035*\"card\" + 0.033*\"peopl\" + 0.031*\"meet\"\n",
      "Topic: 9 \n",
      "Words: 0.057*\"card\" + 0.051*\"week\" + 0.049*\"work\" + 0.049*\"publish\" + 0.043*\"note\" + 0.039*\"thread\" + 0.038*\"thank\" + 0.037*\"video\" + 0.037*\"meet\" + 0.037*\"market\"\n"
     ]
    }
   ],
   "source": [
    "lda_model = gensim.models.LdaMulticore(bow_corpus, num_topics=10, id2word=dictionary, passes=2, workers=2)\n",
    "for idx, topic in lda_model.print_topics(-1):\n",
    "    print('Topic: {} \\nWords: {}'.format(idx, topic))"
   ]
  },
  {
   "cell_type": "markdown",
   "metadata": {},
   "source": [
    "# TF-IDF"
   ]
  },
  {
   "cell_type": "code",
   "execution_count": 18,
   "metadata": {},
   "outputs": [
    {
     "name": "stdout",
     "output_type": "stream",
     "text": [
      "[(0, 1.0)]\n"
     ]
    }
   ],
   "source": [
    "from gensim import corpora, models\n",
    "tfidf = models.TfidfModel(bow_corpus)\n",
    "corpus_tfidf = tfidf[bow_corpus]\n",
    "from pprint import pprint\n",
    "for doc in corpus_tfidf:\n",
    "    pprint(doc)\n",
    "    break"
   ]
  },
  {
   "cell_type": "code",
   "execution_count": 20,
   "metadata": {},
   "outputs": [
    {
     "name": "stdout",
     "output_type": "stream",
     "text": [
      "Topic: 0 Word: 0.056*\"thing\" + 0.053*\"case\" + 0.050*\"good\" + 0.041*\"wcus\" + 0.040*\"studi\" + 0.038*\"market\" + 0.037*\"know\" + 0.036*\"hello\" + 0.035*\"time\" + 0.032*\"wordcamp\"\n",
      "Topic: 1 Word: 0.050*\"thank\" + 0.045*\"today\" + 0.045*\"work\" + 0.045*\"wordpress\" + 0.040*\"market\" + 0.033*\"card\" + 0.032*\"team\" + 0.032*\"meet\" + 0.029*\"https\" + 0.029*\"wordcamp\"\n",
      "Topic: 2 Word: 0.100*\"market\" + 0.082*\"wordpress\" + 0.070*\"https\" + 0.063*\"trello\" + 0.063*\"welcom\" + 0.045*\"team\" + 0.043*\"note\" + 0.038*\"updat\" + 0.036*\"busi\" + 0.034*\"card\"\n",
      "Topic: 3 Word: 0.202*\"join\" + 0.189*\"channel\" + 0.044*\"gidgey\" + 0.042*\"happi\" + 0.028*\"hello\" + 0.028*\"contribut\" + 0.027*\"lead\" + 0.027*\"task\" + 0.026*\"meet\" + 0.020*\"siobhanseija\"\n",
      "Topic: 4 Word: 0.219*\"channel\" + 0.206*\"join\" + 0.122*\"welcom\" + 0.078*\"hello\" + 0.070*\"leav\" + 0.029*\"thank\" + 0.026*\"sorri\" + 0.021*\"miss\" + 0.018*\"question\" + 0.017*\"week\"\n",
      "Topic: 5 Word: 0.083*\"awesom\" + 0.072*\"great\" + 0.041*\"thread\" + 0.039*\"week\" + 0.036*\"wordcamp\" + 0.034*\"gidgey\" + 0.034*\"help\" + 0.033*\"peopl\" + 0.032*\"case\" + 0.027*\"like\"\n",
      "Topic: 6 Word: 0.061*\"note\" + 0.056*\"team\" + 0.053*\"go\" + 0.050*\"help\" + 0.044*\"market\" + 0.038*\"video\" + 0.036*\"meet\" + 0.032*\"https\" + 0.031*\"start\" + 0.030*\"wordpress\"\n",
      "Topic: 7 Word: 0.127*\"publish\" + 0.061*\"join\" + 0.059*\"awesom\" + 0.057*\"channel\" + 0.056*\"hello\" + 0.055*\"wordpress\" + 0.051*\"thank\" + 0.035*\"team\" + 0.033*\"good\" + 0.031*\"video\"\n",
      "Topic: 8 Word: 0.071*\"channel\" + 0.067*\"leav\" + 0.052*\"wordpress\" + 0.048*\"join\" + 0.037*\"week\" + 0.035*\"updat\" + 0.033*\"creat\" + 0.032*\"team\" + 0.032*\"publish\" + 0.031*\"plan\"\n",
      "Topic: 9 Word: 0.064*\"time\" + 0.057*\"card\" + 0.050*\"need\" + 0.049*\"siobhanseija\" + 0.045*\"good\" + 0.042*\"post\" + 0.040*\"task\" + 0.032*\"thank\" + 0.025*\"write\" + 0.024*\"project\"\n"
     ]
    }
   ],
   "source": [
    "lda_model_tfidf = gensim.models.LdaMulticore(corpus_tfidf, num_topics=10, id2word=dictionary, passes=2, workers=4)\n",
    "for idx, topic in lda_model_tfidf.print_topics(-1):\n",
    "    print('Topic: {} Word: {}'.format(idx, topic))\n",
    "    "
   ]
  },
  {
   "cell_type": "code",
   "execution_count": 21,
   "metadata": {},
   "outputs": [
    {
     "ename": "IndexError",
     "evalue": "list index out of range",
     "output_type": "error",
     "traceback": [
      "\u001b[0;31m---------------------------------------------------------------------------\u001b[0m",
      "\u001b[0;31mIndexError\u001b[0m                                Traceback (most recent call last)",
      "\u001b[0;32m<ipython-input-21-3f28b1a0ea97>\u001b[0m in \u001b[0;36m<module>\u001b[0;34m\u001b[0m\n\u001b[0;32m----> 1\u001b[0;31m \u001b[0;32mfor\u001b[0m \u001b[0mindex\u001b[0m\u001b[0;34m,\u001b[0m \u001b[0mscore\u001b[0m \u001b[0;32min\u001b[0m \u001b[0msorted\u001b[0m\u001b[0;34m(\u001b[0m\u001b[0mlda_model_tfidf\u001b[0m\u001b[0;34m[\u001b[0m\u001b[0mbow_corpus\u001b[0m\u001b[0;34m[\u001b[0m\u001b[0;36m4310\u001b[0m\u001b[0;34m]\u001b[0m\u001b[0;34m]\u001b[0m\u001b[0;34m,\u001b[0m \u001b[0mkey\u001b[0m\u001b[0;34m=\u001b[0m\u001b[0;32mlambda\u001b[0m \u001b[0mtup\u001b[0m\u001b[0;34m:\u001b[0m \u001b[0;34m-\u001b[0m\u001b[0;36m1\u001b[0m\u001b[0;34m*\u001b[0m\u001b[0mtup\u001b[0m\u001b[0;34m[\u001b[0m\u001b[0;36m1\u001b[0m\u001b[0;34m]\u001b[0m\u001b[0;34m)\u001b[0m\u001b[0;34m:\u001b[0m\u001b[0;34m\u001b[0m\u001b[0;34m\u001b[0m\u001b[0m\n\u001b[0m\u001b[1;32m      2\u001b[0m     \u001b[0mprint\u001b[0m\u001b[0;34m(\u001b[0m\u001b[0;34m\"\\nScore: {}\\t \\nTopic: {}\"\u001b[0m\u001b[0;34m.\u001b[0m\u001b[0mformat\u001b[0m\u001b[0;34m(\u001b[0m\u001b[0mscore\u001b[0m\u001b[0;34m,\u001b[0m \u001b[0mlda_model_tfidf\u001b[0m\u001b[0;34m.\u001b[0m\u001b[0mprint_topic\u001b[0m\u001b[0;34m(\u001b[0m\u001b[0mindex\u001b[0m\u001b[0;34m,\u001b[0m \u001b[0;36m10\u001b[0m\u001b[0;34m)\u001b[0m\u001b[0;34m)\u001b[0m\u001b[0;34m)\u001b[0m\u001b[0;34m\u001b[0m\u001b[0;34m\u001b[0m\u001b[0m\n",
      "\u001b[0;31mIndexError\u001b[0m: list index out of range"
     ]
    }
   ],
   "source": [
    "for index, score in sorted(lda_model_tfidf[bow_corpus[4310]], key=lambda tup: -1*tup[1]):\n",
    "    print(\"\\nScore: {}\\t \\nTopic: {}\".format(score, lda_model_tfidf.print_topic(index, 10)))"
   ]
  },
  {
   "cell_type": "markdown",
   "metadata": {},
   "source": [
    "# Utils"
   ]
  },
  {
   "cell_type": "code",
   "execution_count": null,
   "metadata": {},
   "outputs": [],
   "source": [
    "import re\n",
    "from sklearn.feature_extraction.text import CountVectorizer\n",
    "\n",
    "\n",
    "def keyword_collect(keyword):\n",
    "    word = []\n",
    "    score = []\n",
    "    for i in model.most_similar(keyword):\n",
    "        word.append(i[0])\n",
    "        score.append(model[i[0]])\n",
    "    return word , score\n",
    "\n",
    "def plot_word2vec(X_reduced , total_word , all_word):\n",
    "    colors = sns.color_palette()\n",
    "    plt.figure(figsize = (12,6))\n",
    "    plt.title('word2vec 視覺化結果', fontsize= 18)\n",
    "    temp_df = pd.DataFrame(X_reduced)\n",
    "    temp_df['word'] = pd.Series(total_word)\n",
    "    temp_df['type'] = pd.Series(all_word)\n",
    "    ax = sns.scatterplot(temp_df[0] ,temp_df[1] ,hue = 'type',data=temp_df ,color = colors[1])\n",
    "    for i in range(len(temp_df)):\n",
    "        ax.text(temp_df[0][i] , temp_df[1][i] , temp_df['word'][i] , fontsize = 12)\n",
    "\n",
    "def build_lda_model(tidy_text_segment):\n",
    "    id2word = gensim.corpora.Dictionary(tidy_text_segment);\n",
    "    corpus = [id2word.doc2bow(text) for text in tidy_text_segment];\n",
    "    lda = ldamodel.LdaModel(corpus=corpus, id2word=id2word, num_topics=num_topics);\n",
    "    return lda\n",
    "\n",
    "\n",
    "def get_lda_topics(model, num_topics = 10):\n",
    "    word_dict = {};\n",
    "    for i in range(num_topics):\n",
    "        words = model.show_topic(i, topn = 20);\n",
    "        word_dict['Topic # ' + '{:02d}'.format(i+1)] = [i[0] for i in words];\n",
    "    return pd.DataFrame(word_dict);\n",
    "\n",
    "def get_this_topic(resource , num_topics):\n",
    "    lda = build_lda_model(resource)\n",
    "    return get_lda_topics(lda , num_topics)\n",
    "\n",
    "\n",
    "# Helper function\n",
    "def plot_10_most_common_words(count_data, count_vectorizer):\n",
    "    import matplotlib.pyplot as plt\n",
    "    words = count_vectorizer.get_feature_names()\n",
    "    total_counts = np.zeros(len(words))\n",
    "    for t in count_data:\n",
    "        total_counts+=t.toarray()[0]\n",
    "    \n",
    "    count_dict = (zip(words, total_counts))\n",
    "    count_dict = sorted(count_dict, key=lambda x:x[1], reverse=True)[0:10]\n",
    "    words = [w[0] for w in count_dict]\n",
    "    counts = [w[1] for w in count_dict]\n",
    "    x_pos = np.arange(len(words)) \n",
    "    \n",
    "    plt.figure(2, figsize=(15, 15/1.6180))\n",
    "    plt.subplot(title='10 most common words')\n",
    "    sns.set_context(\"notebook\", font_scale=1.25, rc={\"lines.linewidth\": 2.5})\n",
    "    sns.barplot(x_pos, counts, palette='husl')\n",
    "    plt.xticks(x_pos, words, rotation=0) \n",
    "    plt.xlabel('words')\n",
    "    plt.ylabel('counts')\n",
    "    plt.show()\n",
    "    \n",
    "def exe_freq_word(segment):\n",
    "    # Initialise the count vectorizer with the English stop words\n",
    "    count_vectorizer = CountVectorizer()\n",
    "    # Fit and transform the processed titles\n",
    "    count_data = count_vectorizer.fit_transform(segment)\n",
    "    print('Top 10 most common words')\n",
    "    # Visualise the 10 most common words\n",
    "    plot_10_most_common_words(count_data, count_vectorizer)\n",
    "\n",
    "\n",
    "def lemmatize_stemming(text):\n",
    "    stemmer = SnowballStemmer('english')\n",
    "    return stemmer.stem(WordNetLemmatizer().lemmatize(text, pos='v'))\n",
    "\n",
    "def preprocess(text):\n",
    "    result = []\n",
    "    for token in gensim.utils.simple_preprocess(text):\n",
    "        if token not in gensim.parsing.preprocessing.STOPWORDS and len(token) > 3:\n",
    "            result.append(lemmatize_stemming(token))\n",
    "    return result\n",
    "\n",
    "def transform_data_from_md_to_json(path , slack_channel):\n",
    "    print('processing {} channel'.format(slack_channel))\n",
    "\n",
    "    file_path = path + slack_channel + '.md'\n",
    "\n",
    "    fh = open(file_path)\n",
    "    for line in fh:\n",
    "        data=fh.read()\n",
    "    fh.close()\n",
    "\n",
    "    data_l = data.split('\\n')\n",
    "    # data_l = [x for x in data_l if  '**'  in x]\n",
    "    data_l = [x for x in data_l if  'AM' in x or 'PM' in x]\n",
    "    data_l = [x.rstrip() for x in data_l  if len(x) > 2]\n",
    "    print(len(data_l))\n",
    "    # filter chatbot \n",
    "    data_l = [x for x in data_l if  'WordPress commit' not in x ]\n",
    "    data_l = [x for x in data_l if  'WordPress Trac' not in x ]\n",
    "    print(len(data_l))\n",
    "\n",
    "    data_json = []\n",
    "\n",
    "    start_p =[] \n",
    "    end_p = []\n",
    "    all_data = []\n",
    "    for idx ,i  in enumerate( data_l):\n",
    "        data = {}\n",
    "        data['time'] = i[0:9]\n",
    "        data['text'] = i[9:]\n",
    "\n",
    "        if '&lt;meeting' in i:\n",
    "            start_p.append(idx)\n",
    "        elif '&lt;/meeting' in i :\n",
    "            end_p.append(idx)\n",
    "\n",
    "        json_data = json.dumps(data)\n",
    "        data_json.append(json_data)\n",
    "        all_data.append(data)\n",
    "    return all_data\n",
    "\n",
    "\n",
    "def filter_user(text):\n",
    "#     s = '**maedahbatool**: <@U28P43GKB> Do we have a n..'\n",
    "    try:\n",
    "        account = re.findall('\\*+[\\S]+\\*+',text)[0].replace('*','')\n",
    "    except:\n",
    "        account = ''\n",
    "    return account\n",
    "\n",
    "def remove_user(text):\n",
    "#     s = '**maedahbatool**: <@U28P43GKB> Do we have a n..'\n",
    "    try:\n",
    "        account = re.findall('\\*+[\\S]+\\*+',text)[0]\n",
    "    except:\n",
    "        account = ''\n",
    "    clean_text = text.replace(account , '').replace(':','')\n",
    "    \n",
    "    return clean_text\n",
    "    "
   ]
  },
  {
   "cell_type": "code",
   "execution_count": null,
   "metadata": {},
   "outputs": [],
   "source": []
  }
 ],
 "metadata": {
  "kernelspec": {
   "display_name": "Python 3",
   "language": "python",
   "name": "python3"
  },
  "language_info": {
   "codemirror_mode": {
    "name": "ipython",
    "version": 3
   },
   "file_extension": ".py",
   "mimetype": "text/x-python",
   "name": "python",
   "nbconvert_exporter": "python",
   "pygments_lexer": "ipython3",
   "version": "3.7.1"
  }
 },
 "nbformat": 4,
 "nbformat_minor": 2
}
