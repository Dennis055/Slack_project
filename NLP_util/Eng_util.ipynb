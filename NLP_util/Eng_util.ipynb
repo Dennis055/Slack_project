{
 "cells": [
  {
   "cell_type": "markdown",
   "metadata": {},
   "source": [
    "# lib we used\n",
    "\n",
    "pip install \\\n",
    "   pandas matplotlib numpy \\\n",
    "   nltk seaborn sklearn gensim pyldavis \\\n",
    "   wordcloud textblob spacy textstat"
   ]
  },
  {
   "cell_type": "code",
   "execution_count": 1,
   "metadata": {},
   "outputs": [
    {
     "data": {
      "text/html": [
       "        <script type=\"text/javascript\">\n",
       "        window.PlotlyConfig = {MathJaxConfig: 'local'};\n",
       "        if (window.MathJax) {MathJax.Hub.Config({SVG: {font: \"STIX-Web\"}});}\n",
       "        if (typeof require !== 'undefined') {\n",
       "        require.undef(\"plotly\");\n",
       "        requirejs.config({\n",
       "            paths: {\n",
       "                'plotly': ['https://cdn.plot.ly/plotly-latest.min']\n",
       "            }\n",
       "        });\n",
       "        require(['plotly'], function(Plotly) {\n",
       "            window._Plotly = Plotly;\n",
       "        });\n",
       "        }\n",
       "        </script>\n",
       "        "
      ]
     },
     "metadata": {},
     "output_type": "display_data"
    }
   ],
   "source": [
    "#讀入我們會用到的套件\n",
    "import pandas as pd\n",
    "import datetime\n",
    "import jieba\n",
    "from datetime import datetime\n",
    "import plotly.graph_objs as go\n",
    "import plotly.offline as py\n",
    "py.init_notebook_mode(connected=True) #為了能在本地端調用\n",
    "import plotly.tools as tls\n",
    "import plotly.figure_factory as ff\n",
    "from wordcloud import WordCloud\n",
    "from collections import Counter\n",
    "import seaborn as sns\n",
    "import matplotlib.pyplot as plt\n",
    "%matplotlib inline\n",
    "import swifter\n",
    "import numpy as np\n",
    "import itertools\n",
    "from scipy.sparse import csr_matrix\n",
    "# libraries\n",
    "import pandas as pd\n",
    "import numpy as np\n",
    "import networkx as nx\n",
    "import matplotlib.pyplot as plt"
   ]
  },
  {
   "cell_type": "code",
   "execution_count": 2,
   "metadata": {},
   "outputs": [
    {
     "data": {
      "text/html": [
       "<div>\n",
       "<style scoped>\n",
       "    .dataframe tbody tr th:only-of-type {\n",
       "        vertical-align: middle;\n",
       "    }\n",
       "\n",
       "    .dataframe tbody tr th {\n",
       "        vertical-align: top;\n",
       "    }\n",
       "\n",
       "    .dataframe thead th {\n",
       "        text-align: right;\n",
       "    }\n",
       "</style>\n",
       "<table border=\"1\" class=\"dataframe\">\n",
       "  <thead>\n",
       "    <tr style=\"text-align: right;\">\n",
       "      <th></th>\n",
       "      <th>Unnamed: 0</th>\n",
       "      <th>user_name</th>\n",
       "      <th>text_time</th>\n",
       "      <th>text</th>\n",
       "    </tr>\n",
       "  </thead>\n",
       "  <tbody>\n",
       "    <tr>\n",
       "      <th>0</th>\n",
       "      <td>1.0</td>\n",
       "      <td>**anevins**</td>\n",
       "      <td>6:42 AM, September 30th, 2018</td>\n",
       "      <td>On another note</td>\n",
       "    </tr>\n",
       "    <tr>\n",
       "      <th>1</th>\n",
       "      <td>2.0</td>\n",
       "      <td>**anevins**</td>\n",
       "      <td>6:42 AM, September 30th, 2018</td>\n",
       "      <td>When you help users and they say \"maybe someon...</td>\n",
       "    </tr>\n",
       "    <tr>\n",
       "      <th>2</th>\n",
       "      <td>3.0</td>\n",
       "      <td>**tokyobiyori**</td>\n",
       "      <td>6:47 AM, September 30th, 2018</td>\n",
       "      <td>lol</td>\n",
       "    </tr>\n",
       "  </tbody>\n",
       "</table>\n",
       "</div>"
      ],
      "text/plain": [
       "   Unnamed: 0        user_name                      text_time  \\\n",
       "0         1.0      **anevins**  6:42 AM, September 30th, 2018   \n",
       "1         2.0      **anevins**  6:42 AM, September 30th, 2018   \n",
       "2         3.0  **tokyobiyori**  6:47 AM, September 30th, 2018   \n",
       "\n",
       "                                                text  \n",
       "0                                    On another note  \n",
       "1  When you help users and they say \"maybe someon...  \n",
       "2                                                lol  "
      ]
     },
     "execution_count": 2,
     "metadata": {},
     "output_type": "execute_result"
    }
   ],
   "source": [
    "# path = '/Users/Dennis/Downloads/community_team_meeting.xlsx'\n",
    "path = '/Users/Dennis/Downloads/forums.xlsx'\n",
    "\n",
    "df = pd.read_excel(path)\n",
    "# df = df.head(1000)\n",
    "df.head(3)"
   ]
  },
  {
   "cell_type": "markdown",
   "metadata": {},
   "source": [
    "# Stats\n",
    "word frequency analysis,\n",
    "sentence length analysis,\n",
    "average word length analysis,"
   ]
  },
  {
   "cell_type": "code",
   "execution_count": 4,
   "metadata": {
    "code_folding": [
     22,
     52,
     61
    ]
   },
   "outputs": [
    {
     "name": "stdout",
     "output_type": "stream",
     "text": [
      "--------------------\n"
     ]
    },
    {
     "ename": "TypeError",
     "evalue": "'float' object is not iterable",
     "output_type": "error",
     "traceback": [
      "\u001b[0;31m---------------------------------------------------------------------------\u001b[0m",
      "\u001b[0;31mTypeError\u001b[0m                                 Traceback (most recent call last)",
      "\u001b[0;32m<ipython-input-4-ec7ad53831c5>\u001b[0m in \u001b[0;36m<module>\u001b[0;34m\u001b[0m\n\u001b[1;32m    511\u001b[0m \"\"\"        \n\u001b[1;32m    512\u001b[0m \u001b[0;34m\u001b[0m\u001b[0m\n\u001b[0;32m--> 513\u001b[0;31m \u001b[0mtool\u001b[0m \u001b[0;34m=\u001b[0m \u001b[0mNLP_Eng_Assistant\u001b[0m\u001b[0;34m(\u001b[0m\u001b[0mdf\u001b[0m \u001b[0;34m,\u001b[0m \u001b[0;34m'text'\u001b[0m \u001b[0;34m,\u001b[0m \u001b[0mstopwords\u001b[0m\u001b[0;34m)\u001b[0m\u001b[0;34m\u001b[0m\u001b[0;34m\u001b[0m\u001b[0m\n\u001b[0m",
      "\u001b[0;32m<ipython-input-4-ec7ad53831c5>\u001b[0m in \u001b[0;36m__init__\u001b[0;34m(self, df, text, stopwords)\u001b[0m\n\u001b[1;32m     91\u001b[0m         \u001b[0mnew\u001b[0m\u001b[0;34m=\u001b[0m \u001b[0mdf\u001b[0m\u001b[0;34m[\u001b[0m\u001b[0mtext\u001b[0m\u001b[0;34m]\u001b[0m\u001b[0;34m.\u001b[0m\u001b[0mstr\u001b[0m\u001b[0;34m.\u001b[0m\u001b[0msplit\u001b[0m\u001b[0;34m(\u001b[0m\u001b[0;34m)\u001b[0m\u001b[0;34m\u001b[0m\u001b[0;34m\u001b[0m\u001b[0m\n\u001b[1;32m     92\u001b[0m         \u001b[0mnew\u001b[0m \u001b[0;34m=\u001b[0m \u001b[0mnew\u001b[0m\u001b[0;34m.\u001b[0m\u001b[0mvalues\u001b[0m\u001b[0;34m.\u001b[0m\u001b[0mtolist\u001b[0m\u001b[0;34m(\u001b[0m\u001b[0;34m)\u001b[0m\u001b[0;34m\u001b[0m\u001b[0;34m\u001b[0m\u001b[0m\n\u001b[0;32m---> 93\u001b[0;31m         \u001b[0mself\u001b[0m\u001b[0;34m.\u001b[0m\u001b[0mcorpus\u001b[0m\u001b[0;34m=\u001b[0m\u001b[0;34m[\u001b[0m\u001b[0mword\u001b[0m \u001b[0;32mfor\u001b[0m \u001b[0mi\u001b[0m \u001b[0;32min\u001b[0m \u001b[0mnew\u001b[0m \u001b[0;32mfor\u001b[0m \u001b[0mword\u001b[0m \u001b[0;32min\u001b[0m \u001b[0mi\u001b[0m\u001b[0;34m]\u001b[0m\u001b[0;34m\u001b[0m\u001b[0;34m\u001b[0m\u001b[0m\n\u001b[0m\u001b[1;32m     94\u001b[0m         \u001b[0mself\u001b[0m\u001b[0;34m.\u001b[0m\u001b[0mnlp\u001b[0m \u001b[0;34m=\u001b[0m \u001b[0men_core_web_sm\u001b[0m\u001b[0;34m.\u001b[0m\u001b[0mload\u001b[0m\u001b[0;34m(\u001b[0m\u001b[0;34m)\u001b[0m\u001b[0;34m\u001b[0m\u001b[0;34m\u001b[0m\u001b[0m\n\u001b[1;32m     95\u001b[0m         \u001b[0mself\u001b[0m\u001b[0;34m.\u001b[0m\u001b[0mstopwords\u001b[0m \u001b[0;34m=\u001b[0m \u001b[0mstopwords\u001b[0m\u001b[0;34m.\u001b[0m\u001b[0mwords\u001b[0m\u001b[0;34m(\u001b[0m\u001b[0;34m'english'\u001b[0m\u001b[0;34m)\u001b[0m\u001b[0;34m\u001b[0m\u001b[0;34m\u001b[0m\u001b[0m\n",
      "\u001b[0;32m<ipython-input-4-ec7ad53831c5>\u001b[0m in \u001b[0;36m<listcomp>\u001b[0;34m(.0)\u001b[0m\n\u001b[1;32m     91\u001b[0m         \u001b[0mnew\u001b[0m\u001b[0;34m=\u001b[0m \u001b[0mdf\u001b[0m\u001b[0;34m[\u001b[0m\u001b[0mtext\u001b[0m\u001b[0;34m]\u001b[0m\u001b[0;34m.\u001b[0m\u001b[0mstr\u001b[0m\u001b[0;34m.\u001b[0m\u001b[0msplit\u001b[0m\u001b[0;34m(\u001b[0m\u001b[0;34m)\u001b[0m\u001b[0;34m\u001b[0m\u001b[0;34m\u001b[0m\u001b[0m\n\u001b[1;32m     92\u001b[0m         \u001b[0mnew\u001b[0m \u001b[0;34m=\u001b[0m \u001b[0mnew\u001b[0m\u001b[0;34m.\u001b[0m\u001b[0mvalues\u001b[0m\u001b[0;34m.\u001b[0m\u001b[0mtolist\u001b[0m\u001b[0;34m(\u001b[0m\u001b[0;34m)\u001b[0m\u001b[0;34m\u001b[0m\u001b[0;34m\u001b[0m\u001b[0m\n\u001b[0;32m---> 93\u001b[0;31m         \u001b[0mself\u001b[0m\u001b[0;34m.\u001b[0m\u001b[0mcorpus\u001b[0m\u001b[0;34m=\u001b[0m\u001b[0;34m[\u001b[0m\u001b[0mword\u001b[0m \u001b[0;32mfor\u001b[0m \u001b[0mi\u001b[0m \u001b[0;32min\u001b[0m \u001b[0mnew\u001b[0m \u001b[0;32mfor\u001b[0m \u001b[0mword\u001b[0m \u001b[0;32min\u001b[0m \u001b[0mi\u001b[0m\u001b[0;34m]\u001b[0m\u001b[0;34m\u001b[0m\u001b[0;34m\u001b[0m\u001b[0m\n\u001b[0m\u001b[1;32m     94\u001b[0m         \u001b[0mself\u001b[0m\u001b[0;34m.\u001b[0m\u001b[0mnlp\u001b[0m \u001b[0;34m=\u001b[0m \u001b[0men_core_web_sm\u001b[0m\u001b[0;34m.\u001b[0m\u001b[0mload\u001b[0m\u001b[0;34m(\u001b[0m\u001b[0;34m)\u001b[0m\u001b[0;34m\u001b[0m\u001b[0;34m\u001b[0m\u001b[0m\n\u001b[1;32m     95\u001b[0m         \u001b[0mself\u001b[0m\u001b[0;34m.\u001b[0m\u001b[0mstopwords\u001b[0m \u001b[0;34m=\u001b[0m \u001b[0mstopwords\u001b[0m\u001b[0;34m.\u001b[0m\u001b[0mwords\u001b[0m\u001b[0;34m(\u001b[0m\u001b[0;34m'english'\u001b[0m\u001b[0;34m)\u001b[0m\u001b[0;34m\u001b[0m\u001b[0;34m\u001b[0m\u001b[0m\n",
      "\u001b[0;31mTypeError\u001b[0m: 'float' object is not iterable"
     ]
    }
   ],
   "source": [
    "from sklearn.feature_extraction.text import CountVectorizer\n",
    "from nltk.corpus import stopwords\n",
    "# Code Snippet for Creating LDA visualization\n",
    "from wordcloud import WordCloud, STOPWORDS\n",
    "import numpy as np\n",
    "import nltk\n",
    "from nltk.corpus import stopwords\n",
    "import gensim\n",
    "from nltk.stem import WordNetLemmatizer,PorterStemmer\n",
    "from nltk.tokenize import word_tokenize\n",
    "import pyLDAvis\n",
    "# Visualize the topics\n",
    "from pyLDAvis import sklearn as sklearn_lda\n",
    "import pyLDAvis.gensim\n",
    "from textblob import TextBlob\n",
    "from nltk.sentiment.vader import SentimentIntensityAnalyzer\n",
    "import en_core_web_sm\n",
    "from spacy import displacy\n",
    "from textstat import flesch_reading_ease\n",
    "\n",
    "\n",
    "\n",
    "def train_lda_objects(text , topic_num , stop):\n",
    "#     nltk.download('stopwords')    \n",
    "    \n",
    "    \n",
    "    def _preprocess_text(text):\n",
    "        \n",
    "        corpus=[]\n",
    "        stem=PorterStemmer()\n",
    "        lem=WordNetLemmatizer()\n",
    "        for news in text:\n",
    "            words=[w for w in word_tokenize(news) if (w not in stop)]\n",
    "\n",
    "            words=[lem.lemmatize(w) for w in words if len(w)>2]\n",
    "\n",
    "            corpus.append(words)\n",
    "        return corpus\n",
    "    \n",
    "    corpus=_preprocess_text(text)\n",
    "    \n",
    "    dic=gensim.corpora.Dictionary(corpus)\n",
    "    bow_corpus = [dic.doc2bow(doc) for doc in corpus]\n",
    "    \n",
    "    lda_model =  gensim.models.LdaMulticore(bow_corpus, \n",
    "                                   num_topics = topic_num , \n",
    "                                   id2word = dic,                                    \n",
    "                                   passes = 10,\n",
    "                                   workers = 2)\n",
    "    \n",
    "    return lda_model, bow_corpus, dic\n",
    "\n",
    "def plot_lda_vis(lda_model, bow_corpus, dic):\n",
    "    pyLDAvis.enable_notebook()\n",
    "    vis = pyLDAvis.gensim.prepare(lda_model, bow_corpus, dic)\n",
    "    pyLDAvis.show(vis)\n",
    "    return vis\n",
    "\n",
    "\n",
    "\n",
    "\n",
    "class NLP_Eng_Assistant:\n",
    "    \"\"\"\n",
    "    @method\n",
    "    \n",
    "    1. show% : NLP EDA assistant \n",
    "    \n",
    "    2. update% : adjust attr in this class\n",
    "    \n",
    "    3. ml% : machine learning algorithm\n",
    "    \"\"\"\n",
    "    \n",
    "    def __init__(self , df , text , stopwords):\n",
    "        \"\"\"\n",
    "        Input:\n",
    "            df(DataFrame) : data\n",
    "\n",
    "            text(str): text feature name\n",
    "                \n",
    "            stopwords(set) : stopwords for clean text \n",
    "        Example:\n",
    "            (df , 'text')\n",
    "        \n",
    "        \"\"\"\n",
    "        self.df = df.copy()\n",
    "        self.text = text\n",
    "        \n",
    "        #Text series\n",
    "        self.content  = self.df[self.text]\n",
    "        \n",
    "        new= df[text].str.split()\n",
    "        new = new.values.tolist()\n",
    "        self.corpus=[word for i in new for word in i]\n",
    "        self.nlp = en_core_web_sm.load()\n",
    "        self.stopwords = stopwords.words('english')\n",
    "        self.words_cooc_matrix = None\n",
    "#         self.stopwords = set(stopwords.words('english'))\n",
    "\n",
    "\n",
    "    \n",
    "    def show_each_text_length_dist(self):\n",
    "        self.content.str.len().hist()\n",
    "        plt.title('The number of characters present in each sentence')\n",
    "        plt.show()\n",
    "    \n",
    "    def show_each_text_used_word_dist(self):\n",
    "        \n",
    "        self.df[self.text].str.split().\\\n",
    "        map(lambda x: len(x)).\\\n",
    "        hist()\n",
    "        plt.title('The number of words appearing in each news headline.')\n",
    "        plt.show()\n",
    "    \n",
    "    def show_average_word_length_in_each_sentence(self): \n",
    "        print(' Stopwords are the words that are most commonly used in any language such as “the”,” a”,” an” etc. As these words are probably small in length these words may have caused the above graph to be left-skewed.')\n",
    "        self.df[self.text].str.split().\\\n",
    "           apply(lambda x : [len(i) for i in x]). \\\n",
    "           map(lambda x: np.mean(x)).hist()\n",
    "        plt.title('The average word length in each sentence.')\n",
    "        plt.show()\n",
    "    \n",
    "    def show_top_stopwords_bar_plot(self):\n",
    "        text = self.df[self.text]\n",
    "        stop= self.stopwords\n",
    "\n",
    "        \n",
    "        #Store it into our corpus\n",
    "        corpus  = self.corpus \n",
    "        from collections import defaultdict\n",
    "        dic=defaultdict(int)\n",
    "        for word in corpus:\n",
    "            if word in stop:\n",
    "                dic[word]+=1\n",
    "        \n",
    "        top=sorted(dic.items(), key=lambda x:x[1],reverse=True)[:10] \n",
    "        x,y=zip(*top)\n",
    "        plt.bar(x,y)\n",
    "        plt.title('Top_stopwords_bar_plot')\n",
    "        plt.show()\n",
    "        \n",
    "    def show_word_freq_except_to_stopwords(self , first_num):\n",
    "        \"\"\"\n",
    "        Input:\n",
    "            \n",
    "            first_num(int): How many first common words you want\n",
    "        \"\"\"\n",
    "        counter=Counter(self.corpus)\n",
    "        stop=self.stopwords\n",
    "        most=counter.most_common()\n",
    "        x, y= [], []\n",
    "        for word,count in most[:first_num]:\n",
    "            if (word not in stop):\n",
    "                x.append(word)\n",
    "                y.append(count)\n",
    "        plt.title('Word Frequency in our text ')\n",
    "        sns.barplot(x=y,y=x)\n",
    "        plt.show()\n",
    "        \n",
    "    def show_top_ngram(self, n=None , first_num = 10):\n",
    "        \"\"\"\n",
    "        Input:\n",
    "            n(int) : N-gram params\n",
    "            first_num(int) : How many first common words you want\n",
    "        \"\"\"\n",
    "        text = self.text\n",
    "        df = self.df\n",
    "        \n",
    "        corpus = self.corpus\n",
    "        vec = CountVectorizer(ngram_range=(n, n)).fit(corpus)\n",
    "        bag_of_words = vec.transform(df[text])\n",
    "        sum_words = bag_of_words.sum(axis=0) \n",
    "        words_freq = [(word, sum_words[0, idx]) \n",
    "                      for word, idx in vec.vocabulary_.items()]\n",
    "        words_freq =sorted(words_freq, key = lambda x: x[1], reverse=True)\n",
    "        \n",
    "        top_n_bigrams= words_freq[:first_num]\n",
    "        x,y=map(list,zip(*top_n_bigrams))\n",
    "        sns.barplot(x=y,y=x)\n",
    "        freq_n_gram = set(sum([x.split() for x in pd.DataFrame(top_n_bigrams)[0]],[]))\n",
    "        return list(freq_n_gram)\n",
    "    \n",
    "\n",
    "    def ml_lda_script(self , topic_num , show_lda_vis = False):\n",
    "        \"\"\"\n",
    "        LDA modeling\n",
    "        \"\"\"\n",
    "        text = self.content\n",
    "        print('Start LDA modeling...')\n",
    "        lda_model, bow_corpus, dic = train_lda_objects(text , topic_num , self.stopwords)\n",
    "        word_dict = {};\n",
    "        for i in range(topic_num):\n",
    "            #先列出每個主題的前20個關鍵詞\n",
    "            words = lda_model.show_topic(i, topn = 20);\n",
    "            word_dict['Topic # ' + '{:02d}'.format(i+1)] = [i[0] for i in words];\n",
    "       \n",
    "        display( pd.DataFrame(word_dict))\n",
    "        \n",
    "        if show_lda_vis:\n",
    "            print('Dashboard printing...')\n",
    "            plot_lda_vis(lda_model, bow_corpus, dic)\n",
    "            \n",
    " \n",
    "\n",
    "    def show_wordcloud(self ,max_words = 20 , max_font_size=  30):\n",
    "        \"\"\"\n",
    "        Input\n",
    "        \n",
    "            max_words(int): Indicates the maximum number of words to be displayed.\n",
    "            max_font_size(int): maximum font size.\n",
    "        \"\"\"\n",
    "        stopwords = self.stopwords\n",
    "        wordcloud = WordCloud(\n",
    "            background_color='white',\n",
    "            stopwords=stopwords,\n",
    "            max_words= max_words,\n",
    "            max_font_size=30,\n",
    "            scale=3,\n",
    "            random_state=1)\n",
    "        \n",
    "        data = self.corpus\n",
    "        wordcloud=wordcloud.generate(str(data))\n",
    "        fig = plt.figure(1, figsize=(12, 12))\n",
    "        plt.axis('off')\n",
    "        plt.imshow(wordcloud)\n",
    "        plt.show()\n",
    "        \n",
    "    def update_stop_words(self , add_stop_word):\n",
    "        \"\"\"\n",
    "        add_stop_word(str):The word to add into stop words dict\n",
    "        \"\"\"\n",
    "        self.stopwords.update(add_stop_word)\n",
    "        \n",
    "    def ml_sentiment_analysis(self , sentence):\n",
    "        \"\"\"\n",
    "        polarity: is a floating-point number that lies in the range of [-1,1] \n",
    "        where 1 means positive statement and -1 means a negative statement.\n",
    "        \n",
    "        subjectivity: refers to how someone’s judgment is shaped by personal opinions and feelings. \n",
    "        Subjectivity is represented as a floating-point value which lies in the range of [0,1].\n",
    "        \"\"\"\n",
    "        return TextBlob(sentence).sentiment\n",
    "    \n",
    "    def ml_sentiment_overall(self):\n",
    "        def polarity(text):\n",
    "            return TextBlob(text).sentiment.polarity\n",
    "        df = self.df\n",
    "        text = self.text\n",
    "        \n",
    "        df['polarity_score']=df[text].\\\n",
    "           apply(lambda x : polarity(x))\n",
    "        df['polarity_score'].hist()\n",
    "        plt.title('sentiment distribution')\n",
    "        self.df = df\n",
    "    def ml_sentiment_classify_category(self):\n",
    "        \n",
    "        try:\n",
    "            \n",
    "            df = self.df\n",
    "\n",
    "            def sentiment(x):\n",
    "                if x<0:\n",
    "                    return 'neg'\n",
    "                elif x==0:\n",
    "                    return 'neu'\n",
    "                else:\n",
    "                    return 'pos'\n",
    "\n",
    "            df['polarity']= df['polarity_score'].\\\n",
    "               map(lambda x: sentiment(x))\n",
    "\n",
    "            plt.bar(df.polarity.value_counts().index,\n",
    "                    df.polarity.value_counts())\n",
    "            plt.title('sentiment analysis')\n",
    "            plt.show()\n",
    "            display(df.polarity.value_counts(normalize = True).to_frame())\n",
    "            self.df = df\n",
    "        except:\n",
    "            print('Please exeucuate ml_overall_sentiment first!')\n",
    "            print('The example code is tool.ml_overall_sentiment()')\n",
    "        \n",
    "    def ml_sentiment_vader_estimation(self):\n",
    "        \"\"\"\n",
    "        The next library we are going to discuss is VADER. Vader works better in detecting negative sentiment. \n",
    "        It is very useful in the case of social media text sentiment analysis.\n",
    "        \"\"\"\n",
    "        sid = SentimentIntensityAnalyzer()\n",
    "        def get_vader_score(sent):\n",
    "            # Polarity score returns dictionary\n",
    "            ss = sid.polarity_scores(sent)\n",
    "            #return ss\n",
    "            return np.argmax(list(ss.values())[:-1])\n",
    "        \n",
    "        df = self.df\n",
    "        text  = self.text\n",
    "        df['vader_polarity']= df[text].\\\n",
    "            map(lambda x: get_vader_score(x))\n",
    "        polarity = df['vader_polarity'].replace({0:'neg',1:'neu',2:'pos'})\n",
    "        plt.title('Vader sentiment analysis')\n",
    "        plt.bar(polarity.value_counts().index,\n",
    "                polarity.value_counts())\n",
    "    \n",
    "    def ml_NER_in_most_common(self):\n",
    "        \"\"\"\n",
    "        show what NER most common in our text\n",
    "        \n",
    "        \"\"\"\n",
    "        def ner(text):\n",
    "            doc=self.nlp(text)\n",
    "            return [X.label_ for X in doc.ents]\n",
    "        \n",
    "        \n",
    "        ent=self.content.\\\n",
    "            apply(lambda x : ner(x))\n",
    "        ent=[x for sub in ent for x in sub]\n",
    "        counter=Counter(ent)\n",
    "        count=counter.most_common()\n",
    "\n",
    "\n",
    "        x,y=map(list,zip(*count))\n",
    "        sns.barplot(x=y,y=x)\n",
    "        plt.title('Most common NER in our text')\n",
    "        plt.show()\n",
    "\n",
    "    def ml_NER_in_single_sentence(self ,sentence):\n",
    "        \"\"\"\n",
    "        exe NER technique\n",
    "        \"\"\"\n",
    "\n",
    "\n",
    "        doc= self.nlp(sentence)\n",
    "        [(x.text,x.label_) for x in doc.ents]\n",
    "\n",
    "        displacy.render(doc, style='ent')\n",
    "\n",
    "        \n",
    "    def ml_NER_words_with_single_ent(self , ent  = \"GPE\"):\n",
    "        \"\"\"\n",
    "        visualize the most common tokens per entity. \n",
    "        \"\"\"\n",
    "        observe = ent\n",
    "        def ner(text,ent=\"GPE\"):\n",
    "            doc=self.nlp(text)\n",
    "            return [X.text for X in doc.ents if X.label_ == ent]\n",
    "        \n",
    "        ent = self.content.apply(lambda x: ner(x , ent = ent))\n",
    "        ent =[i for x in ent for i in x]\n",
    "        counter=Counter(ent)\n",
    "        x,y=map(list,zip(*counter.most_common(10)))\n",
    "        sns.barplot(y,x)\n",
    "        plt.title('The most common tokens in ' +observe)\n",
    "        \n",
    "    def ml_POS_tagging(self,sentence):\n",
    "        \"\"\"\n",
    "        exe POS\n",
    "        \"\"\"\n",
    "        doc = self.nlp(sentence)\n",
    "        displacy.render(doc, style='dep', jupyter=True, options={'distance': 90})\n",
    "        \n",
    "    def ml_POS_overall(self):\n",
    "        \"\"\"\n",
    "        explore our text attr by POS\n",
    "        \n",
    "        \"\"\"\n",
    "        def pos(text):\n",
    "            pos=nltk.pos_tag(word_tokenize(text))\n",
    "            pos=list(map(list,zip(*pos)))[1]\n",
    "            return pos\n",
    "        tags = self.content.apply(lambda x : pos(x))\n",
    "        tags=[x for l in tags for x in l]\n",
    "        counter=Counter(tags)\n",
    "        x,y=list(map(list,zip(*counter.most_common(7))))\n",
    "        sns.barplot(x=y,y=x)\n",
    "        plt.title('Explore our text attr by POS')\n",
    "        plt.show()\n",
    "        \n",
    "    def ml_POS_words_with_single_pos(self ,observe_tag):\n",
    "        def get_adjs(text):\n",
    "            adj=[]\n",
    "            pos=nltk.pos_tag(word_tokenize(text))\n",
    "            for word,tag in pos:\n",
    "                if tag== observe_tag:\n",
    "                    adj.append(word)\n",
    "            return adj\n",
    "        words= self.content.apply(lambda x : get_adjs(x))\n",
    "        words=[x for l in words for x in l]\n",
    "        counter=Counter(words)\n",
    "        x,y=list(map(list,zip(*counter.most_common(7))))\n",
    "        sns.barplot(x=y,y=x)\n",
    "        plt.show()\n",
    "        \n",
    "    def show_what_POS_in_lib(self):\n",
    "        info =  \"\"\"\n",
    "        Noun (NN)- Joseph, London, table, cat, teacher, pen, city\n",
    "Verb (VB)- read, speak, ml, eat, play, live, walk, have, like, are, is\n",
    "Adjective(JJ)- beautiful, happy, sad, young, fun, three\n",
    "Adverb(RB)- slowly, quietly, very, always, never, too, well, tomorrow\n",
    "Preposition (IN)- at, on, in, from, with, near, between, about, under\n",
    "Conjunction (CC)- and, or, but, because, so, yet, unless, since, if\n",
    "Pronoun(PRP)- I, you, we, they, he, she, it, me, us, them, him, her, this\n",
    "Interjection (INT)- Ouch! Wow! Great! Help! Oh! Hey! Hi!\n",
    "        \n",
    "        \"\"\"\n",
    "        print(info)\n",
    "\n",
    "\n",
    "    def show_easily_readable(self):\n",
    "        \"\"\" readable test \"\"\"\n",
    "        self.content.\\\n",
    "       apply(lambda x : flesch_reading_ease(x)).hist()\n",
    "\n",
    "\n",
    "        \n",
    "    def get_under_score_text(self , score):\n",
    "        \"\"\"Too low score means the complex words being used in these sentence\"\"\"\n",
    "        reading =  self.content.\\\n",
    "       apply(lambda x : flesch_reading_ease(x))\n",
    "        x=[i for i in range(len(reading)) if reading[i]<score]\n",
    "#         displacy(self.content.iloc[x].head())\n",
    "        return self.content.iloc[x]\n",
    "\n",
    "    def run_nlp_analysis_script(self):\n",
    "        self.show_average_word_length_in_each_sentence()\n",
    "        self.show_each_text_length_dist()\n",
    "        self.show_each_text_used_word_dist()\n",
    "        self.show_easily_readable()\n",
    "        self.show_top_ngram(2 , 10)\n",
    "        self.show_top_stopwords_bar_plot()\n",
    "        self.show_word_freq_except_to_stopwords(40)\n",
    "        self.show_wordcloud()\n",
    "        \n",
    "        self.ml_lda_script(4)\n",
    "        self.ml_NER_in_most_common()\n",
    "        self.ml_POS_overall()\n",
    "        self.ml_sentiment_overall()\n",
    "        self.ml_sentiment_classify_category()\n",
    "        self.ml_sentiment_vader_estimation()\n",
    "        \n",
    "    def show_word_stream_change(self , compare_word):\n",
    "        \"\"\"\n",
    "        Compare word along with text\n",
    "        \n",
    "        \"\"\"\n",
    "        def calculate_word_freq(sentence , target):\n",
    "            sentence = sentence.split(' ')\n",
    "            count = 0\n",
    "            for txt in sentence:\n",
    "                if txt.lower() == target:\n",
    "                    count += 1\n",
    "            return count\n",
    "#         compare_word = []\n",
    "        temp_word =pd.DataFrame()\n",
    "        for words in compare_word:\n",
    "            temp_word[words] = self.content.apply(lambda x:calculate_word_freq(x , words))\n",
    "        temp_word.plot()\n",
    "      \n",
    "    def create_co_occurence_matrix(self , allowed_words):\n",
    "        \"\"\"\n",
    "        Generate word co-occurence matrix\n",
    "        \n",
    "        \"\"\"\n",
    "        \n",
    "        documents = self.content.apply(lambda x:x.split())\n",
    "        \n",
    "        def create_co_occurences_matrix(allowed_words, documents):\n",
    "            \"\"\"\n",
    "            Input:\n",
    "                allowed_words(List): The words you want to observe \n",
    "                documents(2D-List):Collection of split word per sentence \n",
    "\n",
    "                Example:\n",
    "                    allowed_words = [want , a]\n",
    "                    documents = [[I , want , a , pizza] , [I,  want , a , apple]]\n",
    "            Output:\n",
    "                value_matrix : 詞與詞的共同出現頻率\n",
    "            \"\"\"\n",
    "            word_to_id = dict(zip(allowed_words, range(len(allowed_words))))\n",
    "            documents_as_ids = [np.sort([word_to_id[w] for w in doc if w in word_to_id]).astype('uint32') for doc in documents]\n",
    "            row_ind, col_ind = zip(*itertools.chain(*[[(i, w) for w in doc] for i, doc in enumerate(documents_as_ids)]))\n",
    "            data = np.ones(len(row_ind), dtype='uint32')  # use unsigned int for better memory utilization\n",
    "            max_word_id = max(itertools.chain(*documents_as_ids)) + 1\n",
    "            docs_words_matrix = csr_matrix((data, (row_ind, col_ind)), shape=(len(documents_as_ids), max_word_id))  # efficient arithmetic operations with CSR * CSR\n",
    "            words_cooc_matrix = docs_words_matrix.T * docs_words_matrix  # multiplying docs_words_matrix with its transpose matrix would generate the co-occurences matrix\n",
    "            words_cooc_matrix.setdiag(0)\n",
    "        #     print(f\"words_cooc_matrix:\\n{words_cooc_matrix.todense()}\")\n",
    "            return words_cooc_matrix.todense(), word_to_id \n",
    "        words_cooc_matrix , word_to_id =  create_co_occurences_matrix(allowed_words , documents)\n",
    "        words_cooc_matrix =  pd.DataFrame(words_cooc_matrix)\n",
    "        words_cooc_matrix.index = allowed_words\n",
    "        words_cooc_matrix.columns = allowed_words\n",
    "        self.words_cooc_matrix = words_cooc_matrix\n",
    "        return words_cooc_matrix\n",
    "\n",
    "    def show_co_occurence_structure(self,heat = True,  graph = True):\n",
    "        if heat:\n",
    "            plt.figure(figsize = (16,9))\n",
    "            sns.heatmap(self.words_cooc_matrix, cmap=\"YlGnBu\")\n",
    "        \n",
    "        if graph:\n",
    "            plt.figure(figsize = (16,10))\n",
    "            #從matrix轉成圖\n",
    "            G =  nx.from_pandas_adjacency(self.words_cooc_matrix)\n",
    "            # Graph with Custom nodes:\n",
    "            nx.draw(G, with_labels=True, node_size=100, node_color=\"skyblue\", node_shape=\"s\", alpha=0.5, linewidths=40)\n",
    "            plt.show()\n",
    "  \n",
    " \n",
    "\n",
    "print('-' *20)\n",
    "\"\"\"\n",
    "test\n",
    "\"\"\"        \n",
    "\n",
    "tool = NLP_Eng_Assistant(df , 'text' , stopwords)\n"
   ]
  },
  {
   "cell_type": "code",
   "execution_count": 11,
   "metadata": {},
   "outputs": [
    {
     "name": "stdout",
     "output_type": "stream",
     "text": [
      " Stopwords are the words that are most commonly used in any language such as “the”,” a”,” an” etc. As these words are probably small in length these words may have caused the above graph to be left-skewed.\n"
     ]
    },
    {
     "data": {
      "image/png": "[encoded data removed]",
      "text/plain": [
       "<Figure size 432x288 with 1 Axes>"
      ]
     },
     "metadata": {
      "needs_background": "light"
     },
     "output_type": "display_data"
    },
    {
     "data": {
      "image/png": "[encoded data removed]",
      "text/plain": [
       "<Figure size 432x288 with 1 Axes>"
      ]
     },
     "metadata": {
      "needs_background": "light"
     },
     "output_type": "display_data"
    },
    {
     "data": {
      "image/png": "[encoded data removed]",
      "text/plain": [
       "<Figure size 432x288 with 1 Axes>"
      ]
     },
     "metadata": {
      "needs_background": "light"
     },
     "output_type": "display_data"
    },
    {
     "data": {
      "image/png": "[encoded data removed]",
      "text/plain": [
       "<Figure size 432x288 with 1 Axes>"
      ]
     },
     "metadata": {
      "needs_background": "light"
     },
     "output_type": "display_data"
    },
    {
     "data": {
      "image/png": "[encoded data removed]",
      "text/plain": [
       "<Figure size 432x288 with 1 Axes>"
      ]
     },
     "metadata": {
      "needs_background": "light"
     },
     "output_type": "display_data"
    },
    {
     "data": {
      "image/png": "[encoded data removed]",
      "text/plain": [
       "<Figure size 864x864 with 1 Axes>"
      ]
     },
     "metadata": {
      "needs_background": "light"
     },
     "output_type": "display_data"
    },
    {
     "name": "stdout",
     "output_type": "stream",
     "text": [
      "Start LDA modeling...\n"
     ]
    },
    {
     "data": {
      "text/html": [
       "<div>\n",
       "<style scoped>\n",
       "    .dataframe tbody tr th:only-of-type {\n",
       "        vertical-align: middle;\n",
       "    }\n",
       "\n",
       "    .dataframe tbody tr th {\n",
       "        vertical-align: top;\n",
       "    }\n",
       "\n",
       "    .dataframe thead th {\n",
       "        text-align: right;\n",
       "    }\n",
       "</style>\n",
       "<table border=\"1\" class=\"dataframe\">\n",
       "  <thead>\n",
       "    <tr style=\"text-align: right;\">\n",
       "      <th></th>\n",
       "      <th>Topic # 01</th>\n",
       "      <th>Topic # 02</th>\n",
       "      <th>Topic # 03</th>\n",
       "      <th>Topic # 04</th>\n",
       "    </tr>\n",
       "  </thead>\n",
       "  <tbody>\n",
       "    <tr>\n",
       "      <th>0</th>\n",
       "      <td>http</td>\n",
       "      <td>review</td>\n",
       "      <td>n't</td>\n",
       "      <td>http</td>\n",
       "    </tr>\n",
       "    <tr>\n",
       "      <th>1</th>\n",
       "      <td>n't</td>\n",
       "      <td>theme</td>\n",
       "      <td>think</td>\n",
       "      <td>n't</td>\n",
       "    </tr>\n",
       "    <tr>\n",
       "      <th>2</th>\n",
       "      <td>...</td>\n",
       "      <td>got</td>\n",
       "      <td>'re</td>\n",
       "      <td>plugin</td>\n",
       "    </tr>\n",
       "    <tr>\n",
       "      <th>3</th>\n",
       "      <td>edited</td>\n",
       "      <td>There</td>\n",
       "      <td>know</td>\n",
       "      <td>review</td>\n",
       "    </tr>\n",
       "    <tr>\n",
       "      <th>4</th>\n",
       "      <td>That</td>\n",
       "      <td>page</td>\n",
       "      <td>'ve</td>\n",
       "      <td>one</td>\n",
       "    </tr>\n",
       "    <tr>\n",
       "      <th>5</th>\n",
       "      <td>need</td>\n",
       "      <td>But</td>\n",
       "      <td>like</td>\n",
       "      <td>time</td>\n",
       "    </tr>\n",
       "    <tr>\n",
       "      <th>6</th>\n",
       "      <td>coffee</td>\n",
       "      <td>Thanks</td>\n",
       "      <td>would</td>\n",
       "      <td>...</td>\n",
       "    </tr>\n",
       "    <tr>\n",
       "      <th>7</th>\n",
       "      <td>people</td>\n",
       "      <td>'ve</td>\n",
       "      <td>one</td>\n",
       "      <td>You</td>\n",
       "    </tr>\n",
       "    <tr>\n",
       "      <th>8</th>\n",
       "      <td>may</td>\n",
       "      <td>could</td>\n",
       "      <td>get</td>\n",
       "      <td>edited</td>\n",
       "    </tr>\n",
       "    <tr>\n",
       "      <th>9</th>\n",
       "      <td>back</td>\n",
       "      <td>time</td>\n",
       "      <td>people</td>\n",
       "      <td>theme</td>\n",
       "    </tr>\n",
       "    <tr>\n",
       "      <th>10</th>\n",
       "      <td>user</td>\n",
       "      <td>see</td>\n",
       "      <td>help</td>\n",
       "      <td>like</td>\n",
       "    </tr>\n",
       "    <tr>\n",
       "      <th>11</th>\n",
       "      <td>flagged</td>\n",
       "      <td>people</td>\n",
       "      <td>'ll</td>\n",
       "      <td>get</td>\n",
       "    </tr>\n",
       "    <tr>\n",
       "      <th>12</th>\n",
       "      <td>release</td>\n",
       "      <td>thing</td>\n",
       "      <td>theme</td>\n",
       "      <td>good</td>\n",
       "    </tr>\n",
       "    <tr>\n",
       "      <th>13</th>\n",
       "      <td>site</td>\n",
       "      <td>'re</td>\n",
       "      <td>edited</td>\n",
       "      <td>support</td>\n",
       "    </tr>\n",
       "    <tr>\n",
       "      <th>14</th>\n",
       "      <td>get</td>\n",
       "      <td>forum</td>\n",
       "      <td>see</td>\n",
       "      <td>forum</td>\n",
       "    </tr>\n",
       "    <tr>\n",
       "      <th>15</th>\n",
       "      <td>thing</td>\n",
       "      <td>plugin</td>\n",
       "      <td>Health</td>\n",
       "      <td>yes</td>\n",
       "    </tr>\n",
       "    <tr>\n",
       "      <th>16</th>\n",
       "      <td>post</td>\n",
       "      <td>sure</td>\n",
       "      <td>Check</td>\n",
       "      <td>reply</td>\n",
       "    </tr>\n",
       "    <tr>\n",
       "      <th>17</th>\n",
       "      <td>topic</td>\n",
       "      <td>n't</td>\n",
       "      <td>WordPress</td>\n",
       "      <td>plugins</td>\n",
       "    </tr>\n",
       "    <tr>\n",
       "      <th>18</th>\n",
       "      <td>see</td>\n",
       "      <td>good</td>\n",
       "      <td>work</td>\n",
       "      <td>someone</td>\n",
       "    </tr>\n",
       "    <tr>\n",
       "      <th>19</th>\n",
       "      <td>like</td>\n",
       "      <td>email</td>\n",
       "      <td>right</td>\n",
       "      <td>post</td>\n",
       "    </tr>\n",
       "  </tbody>\n",
       "</table>\n",
       "</div>"
      ],
      "text/plain": [
       "   Topic # 01 Topic # 02 Topic # 03 Topic # 04\n",
       "0        http     review        n't       http\n",
       "1         n't      theme      think        n't\n",
       "2         ...        got        're     plugin\n",
       "3      edited      There       know     review\n",
       "4        That       page        've        one\n",
       "5        need        But       like       time\n",
       "6      coffee     Thanks      would        ...\n",
       "7      people        've        one        You\n",
       "8         may      could        get     edited\n",
       "9        back       time     people      theme\n",
       "10       user        see       help       like\n",
       "11    flagged     people        'll        get\n",
       "12    release      thing      theme       good\n",
       "13       site        're     edited    support\n",
       "14        get      forum        see      forum\n",
       "15      thing     plugin     Health        yes\n",
       "16       post       sure      Check      reply\n",
       "17      topic        n't  WordPress    plugins\n",
       "18        see       good       work    someone\n",
       "19       like      email      right       post"
      ]
     },
     "metadata": {},
     "output_type": "display_data"
    },
    {
     "data": {
      "image/png": "[encoded data removed]",
      "text/plain": [
       "<Figure size 432x288 with 1 Axes>"
      ]
     },
     "metadata": {
      "needs_background": "light"
     },
     "output_type": "display_data"
    },
    {
     "data": {
      "image/png": "[encoded data removed]",
      "text/plain": [
       "<Figure size 432x288 with 1 Axes>"
      ]
     },
     "metadata": {
      "needs_background": "light"
     },
     "output_type": "display_data"
    },
    {
     "data": {
      "image/png": "[encoded data removed]",
      "text/plain": [
       "<Figure size 432x288 with 1 Axes>"
      ]
     },
     "metadata": {
      "needs_background": "light"
     },
     "output_type": "display_data"
    },
    {
     "data": {
      "text/html": [
       "<div>\n",
       "<style scoped>\n",
       "    .dataframe tbody tr th:only-of-type {\n",
       "        vertical-align: middle;\n",
       "    }\n",
       "\n",
       "    .dataframe tbody tr th {\n",
       "        vertical-align: top;\n",
       "    }\n",
       "\n",
       "    .dataframe thead th {\n",
       "        text-align: right;\n",
       "    }\n",
       "</style>\n",
       "<table border=\"1\" class=\"dataframe\">\n",
       "  <thead>\n",
       "    <tr style=\"text-align: right;\">\n",
       "      <th></th>\n",
       "      <th>polarity</th>\n",
       "    </tr>\n",
       "  </thead>\n",
       "  <tbody>\n",
       "    <tr>\n",
       "      <th>neu</th>\n",
       "      <td>0.523</td>\n",
       "    </tr>\n",
       "    <tr>\n",
       "      <th>pos</th>\n",
       "      <td>0.338</td>\n",
       "    </tr>\n",
       "    <tr>\n",
       "      <th>neg</th>\n",
       "      <td>0.139</td>\n",
       "    </tr>\n",
       "  </tbody>\n",
       "</table>\n",
       "</div>"
      ],
      "text/plain": [
       "     polarity\n",
       "neu     0.523\n",
       "pos     0.338\n",
       "neg     0.139"
      ]
     },
     "metadata": {},
     "output_type": "display_data"
    },
    {
     "data": {
      "image/png": "[encoded data removed]",
      "text/plain": [
       "<Figure size 432x288 with 1 Axes>"
      ]
     },
     "metadata": {
      "needs_background": "light"
     },
     "output_type": "display_data"
    }
   ],
   "source": [
    "tool.run_nlp_analysis_script()"
   ]
  },
  {
   "cell_type": "markdown",
   "metadata": {},
   "source": [
    "# Text preprocessing"
   ]
  },
  {
   "cell_type": "code",
   "execution_count": 375,
   "metadata": {},
   "outputs": [
    {
     "data": {
      "image/png": "[encoded data removed]",
      "text/plain": [
       "<Figure size 1152x648 with 2 Axes>"
      ]
     },
     "metadata": {
      "needs_background": "light"
     },
     "output_type": "display_data"
    },
    {
     "data": {
      "image/png": "[encoded data removed]",
      "text/plain": [
       "<Figure size 1152x720 with 1 Axes>"
      ]
     },
     "metadata": {},
     "output_type": "display_data"
    }
   ],
   "source": [
    "\n",
    "# stopwords = set(stopwords.words('english'))\n",
    "\n",
    "tool.create_co_occurence_matrix(['all',\n",
    " 'check',\n",
    " 'have',\n",
    " 'health',\n",
    " 'https',\n",
    " 'org',\n",
    " 're',\n",
    " 'support',\n",
    " 'to',\n",
    " 'topic',\n",
    " 'users',\n",
    " 'view',\n",
    " 'we',\n",
    " 'wordpress',\n",
    " 'you'])\n",
    "tool.show_co_occurence_structure()"
   ]
  },
  {
   "cell_type": "code",
   "execution_count": 324,
   "metadata": {},
   "outputs": [
    {
     "data": {
      "image/png": "[encoded data removed]",
      "text/plain": [
       "<Figure size 432x288 with 1 Axes>"
      ]
     },
     "metadata": {
      "needs_background": "light"
     },
     "output_type": "display_data"
    }
   ],
   "source": [
    "# tool.ml_POS_words_with_single_pos('NN')\n",
    "tool.ml_NER_words_with_single_ent('')\n",
    "# tool.show_what_POS_in_lib()"
   ]
  },
  {
   "cell_type": "code",
   "execution_count": 313,
   "metadata": {},
   "outputs": [
    {
     "data": {
      "text/plain": [
       "<WordListCorpusReader in '/Users/Dennis/nltk_data/corpora/stopwords'>"
      ]
     },
     "execution_count": 313,
     "metadata": {},
     "output_type": "execute_result"
    }
   ],
   "source": [
    "stopwords"
   ]
  },
  {
   "cell_type": "code",
   "execution_count": 294,
   "metadata": {},
   "outputs": [],
   "source": [
    "import jieba\n",
    "\n",
    "jieba.load_userdict('/Users/Dennis/Python與商業分析/R_text_mining/my_dict.txt')\n",
    "\n",
    "def chinese_word_cut(mytext):\n",
    "    try:\n",
    "        word = \" \".join(jieba.cut(mytext))\n",
    "    except:\n",
    "        word = ''\n",
    "    return word\n",
    "\n",
    "def get_custom_stopwords(stop_words_file):\n",
    "    with open(stop_words_file,'r' , encoding='gbk' , newline= '') as f:\n",
    "        stopwords = f.read()\n",
    "    stopwords_list = stopwords.split('\\n')\n",
    "    custom_stopwords_list = [i.replace('\\r','') for i in stopwords_list]\n",
    "    return custom_stopwords_list\n",
    "\n",
    "\n",
    "\n",
    "\n",
    "def get_features(sent):\n",
    "    \"\"\"抽取1-gram 以及 2-gram特徵\"\"\"\n",
    "    unigrams = list(sent)\n",
    "    bigrams = [sent[i:i+2] for i in range(len(sent)-1)]\n",
    "\n",
    "    return unigrams + bigrams\n",
    "\n",
    "stop_words_file = '/Users/Dennis/data_science/NLP /Term project/哈工大停用词表.txt'\n",
    "\n",
    "\n",
    "#切分出斷詞這個欄位\n",
    "df['cut_comment'] = df.content.apply(chinese_word_cut)\n",
    "\n",
    "stopwords = get_custom_stopwords(stop_words_file)\n",
    "\n",
    "from hanziconv import HanziConv\n",
    "\n",
    "\n",
    "new_stop_words = []\n",
    "for word in stopwords:\n",
    "    new_stop_words.append(HanziConv.toTraditional(word))\n",
    "stopwords =  set(new_stop_words)"
   ]
  },
  {
   "cell_type": "code",
   "execution_count": 304,
   "metadata": {},
   "outputs": [],
   "source": []
  },
  {
   "cell_type": "code",
   "execution_count": 305,
   "metadata": {},
   "outputs": [
    {
     "name": "stdout",
     "output_type": "stream",
     "text": [
      " Stopwords are the words that are most commonly used in any language such as “the”,” a”,” an” etc. As these words are probably small in length these words may have caused the above graph to be left-skewed.\n"
     ]
    },
    {
     "data": {
      "image/png": "[encoded data removed]",
      "text/plain": [
       "<Figure size 432x288 with 1 Axes>"
      ]
     },
     "metadata": {
      "needs_background": "light"
     },
     "output_type": "display_data"
    },
    {
     "data": {
      "image/png": "[encoded data removed]",
      "text/plain": [
       "<Figure size 432x288 with 1 Axes>"
      ]
     },
     "metadata": {
      "needs_background": "light"
     },
     "output_type": "display_data"
    },
    {
     "data": {
      "image/png": "[encoded data removed]",
      "text/plain": [
       "<Figure size 432x288 with 1 Axes>"
      ]
     },
     "metadata": {
      "needs_background": "light"
     },
     "output_type": "display_data"
    },
    {
     "ename": "TypeError",
     "evalue": "'WordListCorpusReader' object is not iterable",
     "output_type": "error",
     "traceback": [
      "\u001b[0;31m---------------------------------------------------------------------------\u001b[0m",
      "\u001b[0;31mTypeError\u001b[0m                                 Traceback (most recent call last)",
      "\u001b[0;32m<ipython-input-305-34e9a8ff3379>\u001b[0m in \u001b[0;36m<module>\u001b[0;34m\u001b[0m\n\u001b[0;32m----> 1\u001b[0;31m \u001b[0mtool\u001b[0m\u001b[0;34m.\u001b[0m\u001b[0mrun_nlp_analysis_script\u001b[0m\u001b[0;34m(\u001b[0m\u001b[0;34m)\u001b[0m\u001b[0;34m\u001b[0m\u001b[0;34m\u001b[0m\u001b[0m\n\u001b[0m",
      "\u001b[0;32m<ipython-input-303-44c90f2bad88>\u001b[0m in \u001b[0;36mrun_nlp_analysis_script\u001b[0;34m(self)\u001b[0m\n\u001b[1;32m    424\u001b[0m \u001b[0;31m#         self.show_top_stopwords_bar_plot()\u001b[0m\u001b[0;34m\u001b[0m\u001b[0;34m\u001b[0m\u001b[0;34m\u001b[0m\u001b[0m\n\u001b[1;32m    425\u001b[0m \u001b[0;31m#         self.show_word_freq_except_to_stopwords(20)\u001b[0m\u001b[0;34m\u001b[0m\u001b[0;34m\u001b[0m\u001b[0;34m\u001b[0m\u001b[0m\n\u001b[0;32m--> 426\u001b[0;31m         \u001b[0mself\u001b[0m\u001b[0;34m.\u001b[0m\u001b[0mshow_wordcloud\u001b[0m\u001b[0;34m(\u001b[0m\u001b[0;34m)\u001b[0m\u001b[0;34m\u001b[0m\u001b[0;34m\u001b[0m\u001b[0m\n\u001b[0m\u001b[1;32m    427\u001b[0m \u001b[0;34m\u001b[0m\u001b[0m\n\u001b[1;32m    428\u001b[0m         \u001b[0mself\u001b[0m\u001b[0;34m.\u001b[0m\u001b[0mml_lda_script\u001b[0m\u001b[0;34m(\u001b[0m\u001b[0;36m4\u001b[0m\u001b[0;34m)\u001b[0m\u001b[0;34m\u001b[0m\u001b[0;34m\u001b[0m\u001b[0m\n",
      "\u001b[0;32m<ipython-input-303-44c90f2bad88>\u001b[0m in \u001b[0;36mshow_wordcloud\u001b[0;34m(self, max_words, max_font_size)\u001b[0m\n\u001b[1;32m    216\u001b[0m \u001b[0;34m\u001b[0m\u001b[0m\n\u001b[1;32m    217\u001b[0m         \u001b[0mdata\u001b[0m \u001b[0;34m=\u001b[0m \u001b[0mself\u001b[0m\u001b[0;34m.\u001b[0m\u001b[0mcorpus\u001b[0m\u001b[0;34m\u001b[0m\u001b[0;34m\u001b[0m\u001b[0m\n\u001b[0;32m--> 218\u001b[0;31m         \u001b[0mwordcloud\u001b[0m\u001b[0;34m=\u001b[0m\u001b[0mwordcloud\u001b[0m\u001b[0;34m.\u001b[0m\u001b[0mgenerate\u001b[0m\u001b[0;34m(\u001b[0m\u001b[0mstr\u001b[0m\u001b[0;34m(\u001b[0m\u001b[0mdata\u001b[0m\u001b[0;34m)\u001b[0m\u001b[0;34m)\u001b[0m\u001b[0;34m\u001b[0m\u001b[0;34m\u001b[0m\u001b[0m\n\u001b[0m\u001b[1;32m    219\u001b[0m         \u001b[0mfig\u001b[0m \u001b[0;34m=\u001b[0m \u001b[0mplt\u001b[0m\u001b[0;34m.\u001b[0m\u001b[0mfigure\u001b[0m\u001b[0;34m(\u001b[0m\u001b[0;36m1\u001b[0m\u001b[0;34m,\u001b[0m \u001b[0mfigsize\u001b[0m\u001b[0;34m=\u001b[0m\u001b[0;34m(\u001b[0m\u001b[0;36m12\u001b[0m\u001b[0;34m,\u001b[0m \u001b[0;36m12\u001b[0m\u001b[0;34m)\u001b[0m\u001b[0;34m)\u001b[0m\u001b[0;34m\u001b[0m\u001b[0;34m\u001b[0m\u001b[0m\n\u001b[1;32m    220\u001b[0m         \u001b[0mplt\u001b[0m\u001b[0;34m.\u001b[0m\u001b[0maxis\u001b[0m\u001b[0;34m(\u001b[0m\u001b[0;34m'off'\u001b[0m\u001b[0;34m)\u001b[0m\u001b[0;34m\u001b[0m\u001b[0;34m\u001b[0m\u001b[0m\n",
      "\u001b[0;32m~/anaconda3/lib/python3.7/site-packages/wordcloud/wordcloud.py\u001b[0m in \u001b[0;36mgenerate\u001b[0;34m(self, text)\u001b[0m\n\u001b[1;32m    603\u001b[0m         \u001b[0mself\u001b[0m\u001b[0;34m\u001b[0m\u001b[0;34m\u001b[0m\u001b[0m\n\u001b[1;32m    604\u001b[0m         \"\"\"\n\u001b[0;32m--> 605\u001b[0;31m         \u001b[0;32mreturn\u001b[0m \u001b[0mself\u001b[0m\u001b[0;34m.\u001b[0m\u001b[0mgenerate_from_text\u001b[0m\u001b[0;34m(\u001b[0m\u001b[0mtext\u001b[0m\u001b[0;34m)\u001b[0m\u001b[0;34m\u001b[0m\u001b[0;34m\u001b[0m\u001b[0m\n\u001b[0m\u001b[1;32m    606\u001b[0m \u001b[0;34m\u001b[0m\u001b[0m\n\u001b[1;32m    607\u001b[0m     \u001b[0;32mdef\u001b[0m \u001b[0m_check_generated\u001b[0m\u001b[0;34m(\u001b[0m\u001b[0mself\u001b[0m\u001b[0;34m)\u001b[0m\u001b[0;34m:\u001b[0m\u001b[0;34m\u001b[0m\u001b[0;34m\u001b[0m\u001b[0m\n",
      "\u001b[0;32m~/anaconda3/lib/python3.7/site-packages/wordcloud/wordcloud.py\u001b[0m in \u001b[0;36mgenerate_from_text\u001b[0;34m(self, text)\u001b[0m\n\u001b[1;32m    584\u001b[0m         \u001b[0mself\u001b[0m\u001b[0;34m\u001b[0m\u001b[0;34m\u001b[0m\u001b[0m\n\u001b[1;32m    585\u001b[0m         \"\"\"\n\u001b[0;32m--> 586\u001b[0;31m         \u001b[0mwords\u001b[0m \u001b[0;34m=\u001b[0m \u001b[0mself\u001b[0m\u001b[0;34m.\u001b[0m\u001b[0mprocess_text\u001b[0m\u001b[0;34m(\u001b[0m\u001b[0mtext\u001b[0m\u001b[0;34m)\u001b[0m\u001b[0;34m\u001b[0m\u001b[0;34m\u001b[0m\u001b[0m\n\u001b[0m\u001b[1;32m    587\u001b[0m         \u001b[0mself\u001b[0m\u001b[0;34m.\u001b[0m\u001b[0mgenerate_from_frequencies\u001b[0m\u001b[0;34m(\u001b[0m\u001b[0mwords\u001b[0m\u001b[0;34m)\u001b[0m\u001b[0;34m\u001b[0m\u001b[0;34m\u001b[0m\u001b[0m\n\u001b[1;32m    588\u001b[0m         \u001b[0;32mreturn\u001b[0m \u001b[0mself\u001b[0m\u001b[0;34m\u001b[0m\u001b[0;34m\u001b[0m\u001b[0m\n",
      "\u001b[0;32m~/anaconda3/lib/python3.7/site-packages/wordcloud/wordcloud.py\u001b[0m in \u001b[0;36mprocess_text\u001b[0;34m(self, text)\u001b[0m\n\u001b[1;32m    545\u001b[0m         \"\"\"\n\u001b[1;32m    546\u001b[0m \u001b[0;34m\u001b[0m\u001b[0m\n\u001b[0;32m--> 547\u001b[0;31m         \u001b[0mstopwords\u001b[0m \u001b[0;34m=\u001b[0m \u001b[0mset\u001b[0m\u001b[0;34m(\u001b[0m\u001b[0;34m[\u001b[0m\u001b[0mi\u001b[0m\u001b[0;34m.\u001b[0m\u001b[0mlower\u001b[0m\u001b[0;34m(\u001b[0m\u001b[0;34m)\u001b[0m \u001b[0;32mfor\u001b[0m \u001b[0mi\u001b[0m \u001b[0;32min\u001b[0m \u001b[0mself\u001b[0m\u001b[0;34m.\u001b[0m\u001b[0mstopwords\u001b[0m\u001b[0;34m]\u001b[0m\u001b[0;34m)\u001b[0m\u001b[0;34m\u001b[0m\u001b[0;34m\u001b[0m\u001b[0m\n\u001b[0m\u001b[1;32m    548\u001b[0m \u001b[0;34m\u001b[0m\u001b[0m\n\u001b[1;32m    549\u001b[0m         flags = (re.UNICODE if sys.version < '3' and type(text) is unicode  # noqa: F821\n",
      "\u001b[0;31mTypeError\u001b[0m: 'WordListCorpusReader' object is not iterable"
     ]
    },
    {
     "data": {
      "image/png": "[encoded data removed]",
      "text/plain": [
       "<Figure size 432x288 with 1 Axes>"
      ]
     },
     "metadata": {
      "needs_background": "light"
     },
     "output_type": "display_data"
    }
   ],
   "source": []
  }
 ],
 "metadata": {
  "kernelspec": {
   "display_name": "Python 3",
   "language": "python",
   "name": "python3"
  },
  "language_info": {
   "codemirror_mode": {
    "name": "ipython",
    "version": 3
   },
   "file_extension": ".py",
   "mimetype": "text/x-python",
   "name": "python",
   "nbconvert_exporter": "python",
   "pygments_lexer": "ipython3",
   "version": "3.7.1"
  }
 },
 "nbformat": 4,
 "nbformat_minor": 2
}
